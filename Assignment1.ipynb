{
 "cells": [
  {
   "cell_type": "markdown",
   "metadata": {},
   "source": [
    "# Assignment 1\n",
    "### Author: Rajat Shrivastava"
   ]
  },
  {
   "cell_type": "code",
   "execution_count": 1,
   "metadata": {
    "collapsed": true
   },
   "outputs": [],
   "source": [
    "import numpy as np\n",
    "import matplotlib.pyplot as plt\n",
    "import pandas as pd\n",
    "import seaborn as sns"
   ]
  },
  {
   "cell_type": "code",
   "execution_count": 12,
   "metadata": {
    "collapsed": false
   },
   "outputs": [],
   "source": [
    "#Data of Stations\n",
    "df = pd.read_csv(\"example_sprit_cut_station.csv\")"
   ]
  },
  {
   "cell_type": "code",
   "execution_count": 3,
   "metadata": {
    "collapsed": false
   },
   "outputs": [
    {
     "data": {
      "text/html": [
       "<div>\n",
       "<style scoped>\n",
       "    .dataframe tbody tr th:only-of-type {\n",
       "        vertical-align: middle;\n",
       "    }\n",
       "\n",
       "    .dataframe tbody tr th {\n",
       "        vertical-align: top;\n",
       "    }\n",
       "\n",
       "    .dataframe thead th {\n",
       "        text-align: right;\n",
       "    }\n",
       "</style>\n",
       "<table border=\"1\" class=\"dataframe\">\n",
       "  <thead>\n",
       "    <tr style=\"text-align: right;\">\n",
       "      <th></th>\n",
       "      <th>ID</th>\n",
       "      <th>VERSION</th>\n",
       "      <th>VERSION_TIME</th>\n",
       "      <th>NAME</th>\n",
       "      <th>BRAND</th>\n",
       "      <th>STREET</th>\n",
       "      <th>HOUSE_NUMBER</th>\n",
       "      <th>POST_CODE</th>\n",
       "      <th>PLACE</th>\n",
       "      <th>PUBLIC_HOLIDAY_IDENTIFIER</th>\n",
       "      <th>LAT</th>\n",
       "      <th>LNG</th>\n",
       "    </tr>\n",
       "  </thead>\n",
       "  <tbody>\n",
       "    <tr>\n",
       "      <th>0</th>\n",
       "      <td>d37bee76-91b6-485a-b974-24f1b0d391fa</td>\n",
       "      <td>4</td>\n",
       "      <td>2015-01-09 10:26:15.000000</td>\n",
       "      <td>Aral Tankstelle</td>\n",
       "      <td>ARAL</td>\n",
       "      <td>An der Tagweide</td>\n",
       "      <td>2</td>\n",
       "      <td>76139</td>\n",
       "      <td>Karlsruhe</td>\n",
       "      <td>\\N</td>\n",
       "      <td>49.020280</td>\n",
       "      <td>8.459429</td>\n",
       "    </tr>\n",
       "    <tr>\n",
       "      <th>1</th>\n",
       "      <td>51d4b652-a095-1aa0-e100-80009459e03a</td>\n",
       "      <td>796</td>\n",
       "      <td>2015-09-28 21:00:13.000000</td>\n",
       "      <td>JET MANNHEIM UNTERMUEHLAUSTRASSE 83</td>\n",
       "      <td>JET</td>\n",
       "      <td>UNTERMUEHLAUSTRASSE 83</td>\n",
       "      <td>\\N</td>\n",
       "      <td>68169</td>\n",
       "      <td>MANNHEIM</td>\n",
       "      <td>\\N</td>\n",
       "      <td>49.508962</td>\n",
       "      <td>8.467691</td>\n",
       "    </tr>\n",
       "    <tr>\n",
       "      <th>2</th>\n",
       "      <td>c7caf231-0e47-40db-92de-9349a2eb2bef</td>\n",
       "      <td>4</td>\n",
       "      <td>2014-09-26 13:24:57.000000</td>\n",
       "      <td>Aral Tankstelle</td>\n",
       "      <td>ARAL</td>\n",
       "      <td>Trippstadter Straße</td>\n",
       "      <td>69</td>\n",
       "      <td>67663</td>\n",
       "      <td>Kaiserslautern</td>\n",
       "      <td>\\N</td>\n",
       "      <td>49.433754</td>\n",
       "      <td>7.757465</td>\n",
       "    </tr>\n",
       "    <tr>\n",
       "      <th>3</th>\n",
       "      <td>51d4b53b-a095-1aa0-e100-80009459e03a</td>\n",
       "      <td>796</td>\n",
       "      <td>2015-09-28 21:00:13.000000</td>\n",
       "      <td>JET KAISERSLAUTERN PARISER STR. 167</td>\n",
       "      <td>JET</td>\n",
       "      <td>PARISER STR. 167</td>\n",
       "      <td>\\N</td>\n",
       "      <td>67655</td>\n",
       "      <td>KAISERSLAUTERN</td>\n",
       "      <td>\\N</td>\n",
       "      <td>49.442200</td>\n",
       "      <td>7.748360</td>\n",
       "    </tr>\n",
       "    <tr>\n",
       "      <th>4</th>\n",
       "      <td>51d4b70f-a095-1aa0-e100-80009459e03a</td>\n",
       "      <td>796</td>\n",
       "      <td>2015-09-28 21:00:13.000000</td>\n",
       "      <td>JET GERMERSHEIM MUENCHENER STRASSE 12</td>\n",
       "      <td>JET</td>\n",
       "      <td>MUENCHENER STRASSE 12</td>\n",
       "      <td>\\N</td>\n",
       "      <td>76726</td>\n",
       "      <td>GERMERSHEIM</td>\n",
       "      <td>\\N</td>\n",
       "      <td>49.226800</td>\n",
       "      <td>8.374400</td>\n",
       "    </tr>\n",
       "  </tbody>\n",
       "</table>\n",
       "</div>"
      ],
      "text/plain": [
       "                                     ID  VERSION                VERSION_TIME  \\\n",
       "0  d37bee76-91b6-485a-b974-24f1b0d391fa        4  2015-01-09 10:26:15.000000   \n",
       "1  51d4b652-a095-1aa0-e100-80009459e03a      796  2015-09-28 21:00:13.000000   \n",
       "2  c7caf231-0e47-40db-92de-9349a2eb2bef        4  2014-09-26 13:24:57.000000   \n",
       "3  51d4b53b-a095-1aa0-e100-80009459e03a      796  2015-09-28 21:00:13.000000   \n",
       "4  51d4b70f-a095-1aa0-e100-80009459e03a      796  2015-09-28 21:00:13.000000   \n",
       "\n",
       "                                    NAME BRAND                  STREET  \\\n",
       "0                        Aral Tankstelle  ARAL         An der Tagweide   \n",
       "1    JET MANNHEIM UNTERMUEHLAUSTRASSE 83   JET  UNTERMUEHLAUSTRASSE 83   \n",
       "2                        Aral Tankstelle  ARAL     Trippstadter Straße   \n",
       "3    JET KAISERSLAUTERN PARISER STR. 167   JET        PARISER STR. 167   \n",
       "4  JET GERMERSHEIM MUENCHENER STRASSE 12   JET   MUENCHENER STRASSE 12   \n",
       "\n",
       "  HOUSE_NUMBER POST_CODE           PLACE PUBLIC_HOLIDAY_IDENTIFIER        LAT  \\\n",
       "0            2     76139       Karlsruhe                        \\N  49.020280   \n",
       "1           \\N     68169        MANNHEIM                        \\N  49.508962   \n",
       "2           69     67663  Kaiserslautern                        \\N  49.433754   \n",
       "3           \\N     67655  KAISERSLAUTERN                        \\N  49.442200   \n",
       "4           \\N     76726     GERMERSHEIM                        \\N  49.226800   \n",
       "\n",
       "        LNG  \n",
       "0  8.459429  \n",
       "1  8.467691  \n",
       "2  7.757465  \n",
       "3  7.748360  \n",
       "4  8.374400  "
      ]
     },
     "execution_count": 3,
     "metadata": {},
     "output_type": "execute_result"
    }
   ],
   "source": [
    "df.head()"
   ]
  },
  {
   "cell_type": "code",
   "execution_count": 4,
   "metadata": {
    "collapsed": false
   },
   "outputs": [
    {
     "data": {
      "text/plain": [
       "(824, 12)"
      ]
     },
     "execution_count": 4,
     "metadata": {},
     "output_type": "execute_result"
    }
   ],
   "source": [
    "df.shape"
   ]
  },
  {
   "cell_type": "code",
   "execution_count": 5,
   "metadata": {
    "collapsed": false
   },
   "outputs": [
    {
     "data": {
      "text/plain": [
       "str"
      ]
     },
     "execution_count": 5,
     "metadata": {},
     "output_type": "execute_result"
    }
   ],
   "source": [
    "#check date data type\n",
    "type(df.VERSION_TIME[0])"
   ]
  },
  {
   "cell_type": "markdown",
   "metadata": {},
   "source": [
    "### 1.How many different stations exist in the data set and what is the existing history in days (bar chart)?\n",
    "There exist 55 - 2 = 53 different Stations(21 and 40th Row Data is not useful and will be removed from  further analysis)"
   ]
  },
  {
   "cell_type": "code",
   "execution_count": 6,
   "metadata": {
    "collapsed": false
   },
   "outputs": [
    {
     "data": {
      "text/html": [
       "<div>\n",
       "<style scoped>\n",
       "    .dataframe tbody tr th:only-of-type {\n",
       "        vertical-align: middle;\n",
       "    }\n",
       "\n",
       "    .dataframe tbody tr th {\n",
       "        vertical-align: top;\n",
       "    }\n",
       "\n",
       "    .dataframe thead th {\n",
       "        text-align: right;\n",
       "    }\n",
       "</style>\n",
       "<table border=\"1\" class=\"dataframe\">\n",
       "  <thead>\n",
       "    <tr style=\"text-align: right;\">\n",
       "      <th></th>\n",
       "      <th>VERSION</th>\n",
       "      <th>LAT</th>\n",
       "      <th>LNG</th>\n",
       "    </tr>\n",
       "  </thead>\n",
       "  <tbody>\n",
       "    <tr>\n",
       "      <th>count</th>\n",
       "      <td>824.000000</td>\n",
       "      <td>824.000000</td>\n",
       "      <td>824.000000</td>\n",
       "    </tr>\n",
       "    <tr>\n",
       "      <th>mean</th>\n",
       "      <td>131.427184</td>\n",
       "      <td>49.322226</td>\n",
       "      <td>8.191227</td>\n",
       "    </tr>\n",
       "    <tr>\n",
       "      <th>std</th>\n",
       "      <td>269.682766</td>\n",
       "      <td>0.254722</td>\n",
       "      <td>0.283228</td>\n",
       "    </tr>\n",
       "    <tr>\n",
       "      <th>min</th>\n",
       "      <td>1.000000</td>\n",
       "      <td>48.800790</td>\n",
       "      <td>7.505350</td>\n",
       "    </tr>\n",
       "    <tr>\n",
       "      <th>25%</th>\n",
       "      <td>1.000000</td>\n",
       "      <td>49.106052</td>\n",
       "      <td>8.106655</td>\n",
       "    </tr>\n",
       "    <tr>\n",
       "      <th>50%</th>\n",
       "      <td>4.000000</td>\n",
       "      <td>49.374500</td>\n",
       "      <td>8.289707</td>\n",
       "    </tr>\n",
       "    <tr>\n",
       "      <th>75%</th>\n",
       "      <td>22.250000</td>\n",
       "      <td>49.509410</td>\n",
       "      <td>8.404923</td>\n",
       "    </tr>\n",
       "    <tr>\n",
       "      <th>max</th>\n",
       "      <td>881.000000</td>\n",
       "      <td>49.799397</td>\n",
       "      <td>8.499941</td>\n",
       "    </tr>\n",
       "  </tbody>\n",
       "</table>\n",
       "</div>"
      ],
      "text/plain": [
       "          VERSION         LAT         LNG\n",
       "count  824.000000  824.000000  824.000000\n",
       "mean   131.427184   49.322226    8.191227\n",
       "std    269.682766    0.254722    0.283228\n",
       "min      1.000000   48.800790    7.505350\n",
       "25%      1.000000   49.106052    8.106655\n",
       "50%      4.000000   49.374500    8.289707\n",
       "75%     22.250000   49.509410    8.404923\n",
       "max    881.000000   49.799397    8.499941"
      ]
     },
     "execution_count": 6,
     "metadata": {},
     "output_type": "execute_result"
    }
   ],
   "source": [
    "df.describe()"
   ]
  },
  {
   "cell_type": "code",
   "execution_count": 7,
   "metadata": {
    "collapsed": false
   },
   "outputs": [],
   "source": [
    "station_names = df['BRAND'].value_counts().to_frame()\n"
   ]
  },
  {
   "cell_type": "code",
   "execution_count": 8,
   "metadata": {
    "collapsed": true
   },
   "outputs": [],
   "source": [
    "#One of the best things I learnt today: Converting the counted values into dataframe\n",
    "station_names = df['BRAND'].value_counts().rename_axis('BRAND').reset_index(name='COUNTS')"
   ]
  },
  {
   "cell_type": "code",
   "execution_count": 9,
   "metadata": {
    "collapsed": false
   },
   "outputs": [
    {
     "data": {
      "text/html": [
       "<div>\n",
       "<style scoped>\n",
       "    .dataframe tbody tr th:only-of-type {\n",
       "        vertical-align: middle;\n",
       "    }\n",
       "\n",
       "    .dataframe tbody tr th {\n",
       "        vertical-align: top;\n",
       "    }\n",
       "\n",
       "    .dataframe thead th {\n",
       "        text-align: right;\n",
       "    }\n",
       "</style>\n",
       "<table border=\"1\" class=\"dataframe\">\n",
       "  <thead>\n",
       "    <tr style=\"text-align: right;\">\n",
       "      <th></th>\n",
       "      <th>BRAND</th>\n",
       "      <th>COUNTS</th>\n",
       "    </tr>\n",
       "  </thead>\n",
       "  <tbody>\n",
       "    <tr>\n",
       "      <th>0</th>\n",
       "      <td>ARAL</td>\n",
       "      <td>150</td>\n",
       "    </tr>\n",
       "    <tr>\n",
       "      <th>1</th>\n",
       "      <td>Shell</td>\n",
       "      <td>112</td>\n",
       "    </tr>\n",
       "    <tr>\n",
       "      <th>2</th>\n",
       "      <td>ESSO</td>\n",
       "      <td>72</td>\n",
       "    </tr>\n",
       "    <tr>\n",
       "      <th>3</th>\n",
       "      <td>AVIA</td>\n",
       "      <td>66</td>\n",
       "    </tr>\n",
       "    <tr>\n",
       "      <th>4</th>\n",
       "      <td>Total</td>\n",
       "      <td>58</td>\n",
       "    </tr>\n",
       "    <tr>\n",
       "      <th>5</th>\n",
       "      <td>JET</td>\n",
       "      <td>50</td>\n",
       "    </tr>\n",
       "    <tr>\n",
       "      <th>6</th>\n",
       "      <td>BFT</td>\n",
       "      <td>38</td>\n",
       "    </tr>\n",
       "    <tr>\n",
       "      <th>7</th>\n",
       "      <td>Agip</td>\n",
       "      <td>34</td>\n",
       "    </tr>\n",
       "    <tr>\n",
       "      <th>8</th>\n",
       "      <td>OMV</td>\n",
       "      <td>20</td>\n",
       "    </tr>\n",
       "    <tr>\n",
       "      <th>9</th>\n",
       "      <td>Supermarkt-Tankstelle am real- Markt</td>\n",
       "      <td>20</td>\n",
       "    </tr>\n",
       "    <tr>\n",
       "      <th>10</th>\n",
       "      <td>Frühmesser GmbH</td>\n",
       "      <td>12</td>\n",
       "    </tr>\n",
       "    <tr>\n",
       "      <th>11</th>\n",
       "      <td>OIL!</td>\n",
       "      <td>12</td>\n",
       "    </tr>\n",
       "    <tr>\n",
       "      <th>12</th>\n",
       "      <td>HEM</td>\n",
       "      <td>10</td>\n",
       "    </tr>\n",
       "    <tr>\n",
       "      <th>13</th>\n",
       "      <td>bft</td>\n",
       "      <td>10</td>\n",
       "    </tr>\n",
       "    <tr>\n",
       "      <th>14</th>\n",
       "      <td>Freie</td>\n",
       "      <td>8</td>\n",
       "    </tr>\n",
       "    <tr>\n",
       "      <th>15</th>\n",
       "      <td>T</td>\n",
       "      <td>8</td>\n",
       "    </tr>\n",
       "    <tr>\n",
       "      <th>16</th>\n",
       "      <td>SB</td>\n",
       "      <td>8</td>\n",
       "    </tr>\n",
       "    <tr>\n",
       "      <th>17</th>\n",
       "      <td>Supermarkt-Tankstelle</td>\n",
       "      <td>8</td>\n",
       "    </tr>\n",
       "    <tr>\n",
       "      <th>18</th>\n",
       "      <td>Schuster &amp; Sohn KG</td>\n",
       "      <td>8</td>\n",
       "    </tr>\n",
       "    <tr>\n",
       "      <th>19</th>\n",
       "      <td>ED</td>\n",
       "      <td>8</td>\n",
       "    </tr>\n",
       "    <tr>\n",
       "      <th>20</th>\n",
       "      <td>Freie Tankstelle</td>\n",
       "      <td>6</td>\n",
       "    </tr>\n",
       "    <tr>\n",
       "      <th>21</th>\n",
       "      <td>\\N</td>\n",
       "      <td>6</td>\n",
       "    </tr>\n",
       "    <tr>\n",
       "      <th>22</th>\n",
       "      <td>Schiffer &amp; Nicklaus GmbH</td>\n",
       "      <td>4</td>\n",
       "    </tr>\n",
       "    <tr>\n",
       "      <th>23</th>\n",
       "      <td>Winkler</td>\n",
       "      <td>4</td>\n",
       "    </tr>\n",
       "    <tr>\n",
       "      <th>24</th>\n",
       "      <td>ZG Raiffeisen Energie</td>\n",
       "      <td>4</td>\n",
       "    </tr>\n",
       "    <tr>\n",
       "      <th>25</th>\n",
       "      <td>Preis</td>\n",
       "      <td>4</td>\n",
       "    </tr>\n",
       "    <tr>\n",
       "      <th>26</th>\n",
       "      <td>freie Tankstelle</td>\n",
       "      <td>4</td>\n",
       "    </tr>\n",
       "    <tr>\n",
       "      <th>27</th>\n",
       "      <td>Tankcenter</td>\n",
       "      <td>4</td>\n",
       "    </tr>\n",
       "    <tr>\n",
       "      <th>28</th>\n",
       "      <td>TOP</td>\n",
       "      <td>2</td>\n",
       "    </tr>\n",
       "    <tr>\n",
       "      <th>29</th>\n",
       "      <td>CLASSIC</td>\n",
       "      <td>2</td>\n",
       "    </tr>\n",
       "    <tr>\n",
       "      <th>30</th>\n",
       "      <td>Markant</td>\n",
       "      <td>2</td>\n",
       "    </tr>\n",
       "    <tr>\n",
       "      <th>31</th>\n",
       "      <td>Markenfreie TS</td>\n",
       "      <td>2</td>\n",
       "    </tr>\n",
       "    <tr>\n",
       "      <th>32</th>\n",
       "      <td>Eberhardt Jöhlingen</td>\n",
       "      <td>2</td>\n",
       "    </tr>\n",
       "    <tr>\n",
       "      <th>33</th>\n",
       "      <td>mtb</td>\n",
       "      <td>2</td>\n",
       "    </tr>\n",
       "    <tr>\n",
       "      <th>34</th>\n",
       "      <td>E Center</td>\n",
       "      <td>2</td>\n",
       "    </tr>\n",
       "    <tr>\n",
       "      <th>35</th>\n",
       "      <td>Sefrin Heizöl &amp; Kraftstoffe</td>\n",
       "      <td>2</td>\n",
       "    </tr>\n",
       "    <tr>\n",
       "      <th>36</th>\n",
       "      <td>frei</td>\n",
       "      <td>2</td>\n",
       "    </tr>\n",
       "    <tr>\n",
       "      <th>37</th>\n",
       "      <td>rnt</td>\n",
       "      <td>2</td>\n",
       "    </tr>\n",
       "    <tr>\n",
       "      <th>38</th>\n",
       "      <td>Tankhof Iffezheim</td>\n",
       "      <td>2</td>\n",
       "    </tr>\n",
       "    <tr>\n",
       "      <th>39</th>\n",
       "      <td>SB Markt</td>\n",
       "      <td>2</td>\n",
       "    </tr>\n",
       "    <tr>\n",
       "      <th>40</th>\n",
       "      <td>AUTO ZOTZ Herxheim b.LD.       Tanken an L.493</td>\n",
       "      <td>2</td>\n",
       "    </tr>\n",
       "    <tr>\n",
       "      <th>41</th>\n",
       "      <td>Raiffeisen Tankstelle</td>\n",
       "      <td>2</td>\n",
       "    </tr>\n",
       "    <tr>\n",
       "      <th>42</th>\n",
       "      <td>TOTAL</td>\n",
       "      <td>2</td>\n",
       "    </tr>\n",
       "    <tr>\n",
       "      <th>43</th>\n",
       "      <td>nicht mehr aktiv</td>\n",
       "      <td>2</td>\n",
       "    </tr>\n",
       "    <tr>\n",
       "      <th>44</th>\n",
       "      <td>Bft</td>\n",
       "      <td>2</td>\n",
       "    </tr>\n",
       "    <tr>\n",
       "      <th>45</th>\n",
       "      <td>Raiffeisen</td>\n",
       "      <td>2</td>\n",
       "    </tr>\n",
       "    <tr>\n",
       "      <th>46</th>\n",
       "      <td>ELAN</td>\n",
       "      <td>2</td>\n",
       "    </tr>\n",
       "    <tr>\n",
       "      <th>47</th>\n",
       "      <td>Fritz Walter GmbH</td>\n",
       "      <td>2</td>\n",
       "    </tr>\n",
       "    <tr>\n",
       "      <th>48</th>\n",
       "      <td>TAMOIL</td>\n",
       "      <td>2</td>\n",
       "    </tr>\n",
       "    <tr>\n",
       "      <th>49</th>\n",
       "      <td>SB-Markttankstelle</td>\n",
       "      <td>2</td>\n",
       "    </tr>\n",
       "    <tr>\n",
       "      <th>50</th>\n",
       "      <td>AUTO ZOTZ Landau in der Pfalz   Tanken und was...</td>\n",
       "      <td>2</td>\n",
       "    </tr>\n",
       "    <tr>\n",
       "      <th>51</th>\n",
       "      <td>Mr. Wash Autoservice AG</td>\n",
       "      <td>2</td>\n",
       "    </tr>\n",
       "    <tr>\n",
       "      <th>52</th>\n",
       "      <td>Supermarkt Tankstelle</td>\n",
       "      <td>2</td>\n",
       "    </tr>\n",
       "    <tr>\n",
       "      <th>53</th>\n",
       "      <td>TS ARNT</td>\n",
       "      <td>2</td>\n",
       "    </tr>\n",
       "    <tr>\n",
       "      <th>54</th>\n",
       "      <td>Tankstelle Heinz</td>\n",
       "      <td>2</td>\n",
       "    </tr>\n",
       "  </tbody>\n",
       "</table>\n",
       "</div>"
      ],
      "text/plain": [
       "                                                BRAND  COUNTS\n",
       "0                                                ARAL     150\n",
       "1                                               Shell     112\n",
       "2                                                ESSO      72\n",
       "3                                                AVIA      66\n",
       "4                                               Total      58\n",
       "5                                                 JET      50\n",
       "6                                                 BFT      38\n",
       "7                                                Agip      34\n",
       "8                                                 OMV      20\n",
       "9                Supermarkt-Tankstelle am real- Markt      20\n",
       "10                                    Frühmesser GmbH      12\n",
       "11                                               OIL!      12\n",
       "12                                                HEM      10\n",
       "13                                                bft      10\n",
       "14                                              Freie       8\n",
       "15                                                  T       8\n",
       "16                                                 SB       8\n",
       "17                              Supermarkt-Tankstelle       8\n",
       "18                                 Schuster & Sohn KG       8\n",
       "19                                                 ED       8\n",
       "20                                   Freie Tankstelle       6\n",
       "21                                                 \\N       6\n",
       "22                           Schiffer & Nicklaus GmbH       4\n",
       "23                                            Winkler       4\n",
       "24                              ZG Raiffeisen Energie       4\n",
       "25                                              Preis       4\n",
       "26                                   freie Tankstelle       4\n",
       "27                                         Tankcenter       4\n",
       "28                                                TOP       2\n",
       "29                                            CLASSIC       2\n",
       "30                                            Markant       2\n",
       "31                                     Markenfreie TS       2\n",
       "32                                Eberhardt Jöhlingen       2\n",
       "33                                                mtb       2\n",
       "34                                           E Center       2\n",
       "35                        Sefrin Heizöl & Kraftstoffe       2\n",
       "36                                               frei       2\n",
       "37                                                rnt       2\n",
       "38                                  Tankhof Iffezheim       2\n",
       "39                                           SB Markt       2\n",
       "40     AUTO ZOTZ Herxheim b.LD.       Tanken an L.493       2\n",
       "41                              Raiffeisen Tankstelle       2\n",
       "42                                              TOTAL       2\n",
       "43                                   nicht mehr aktiv       2\n",
       "44                                                Bft       2\n",
       "45                                         Raiffeisen       2\n",
       "46                                               ELAN       2\n",
       "47                                  Fritz Walter GmbH       2\n",
       "48                                             TAMOIL       2\n",
       "49                                 SB-Markttankstelle       2\n",
       "50  AUTO ZOTZ Landau in der Pfalz   Tanken und was...       2\n",
       "51                            Mr. Wash Autoservice AG       2\n",
       "52                              Supermarkt Tankstelle       2\n",
       "53                                            TS ARNT       2\n",
       "54                                   Tankstelle Heinz       2"
      ]
     },
     "execution_count": 9,
     "metadata": {},
     "output_type": "execute_result"
    }
   ],
   "source": [
    "station_names"
   ]
  },
  {
   "cell_type": "code",
   "execution_count": 13,
   "metadata": {
    "collapsed": false
   },
   "outputs": [
    {
     "data": {
      "text/plain": [
       "numpy.int64"
      ]
     },
     "execution_count": 13,
     "metadata": {},
     "output_type": "execute_result"
    }
   ],
   "source": [
    "type(station_names.COUNTS[0])"
   ]
  },
  {
   "cell_type": "code",
   "execution_count": 14,
   "metadata": {
    "collapsed": false
   },
   "outputs": [
    {
     "data": {
      "text/plain": [
       "numpy.int64"
      ]
     },
     "execution_count": 14,
     "metadata": {},
     "output_type": "execute_result"
    }
   ],
   "source": [
    "type(station_names['COUNTS'][0])"
   ]
  },
  {
   "cell_type": "code",
   "execution_count": 15,
   "metadata": {
    "collapsed": false
   },
   "outputs": [
    {
     "data": {
      "image/png": "[encoded data removed]",
      "text/plain": [
       "<Figure size 432x288 with 1 Axes>"
      ]
     },
     "metadata": {},
     "output_type": "display_data"
    }
   ],
   "source": [
    "sns.countplot(x='COUNTS',data=station_names)\n",
    "plt.show()"
   ]
  },
  {
   "cell_type": "code",
   "execution_count": 16,
   "metadata": {
    "collapsed": false
   },
   "outputs": [
    {
     "data": {
      "image/png": "[encoded data removed]",
      "text/plain": [
       "<Figure size 432x288 with 1 Axes>"
      ]
     },
     "metadata": {},
     "output_type": "display_data"
    }
   ],
   "source": [
    "sns.distplot(station_names['COUNTS'],bins = 55)\n",
    "plt.show()"
   ]
  },
  {
   "cell_type": "code",
   "execution_count": 17,
   "metadata": {
    "collapsed": false
   },
   "outputs": [
    {
     "data": {
      "image/png": "[encoded data removed]",
      "text/plain": [
       "<Figure size 432x288 with 1 Axes>"
      ]
     },
     "metadata": {},
     "output_type": "display_data"
    }
   ],
   "source": [
    "sns.barplot(x='COUNTS', y='BRAND', data = station_names)\n",
    "plt.show()"
   ]
  },
  {
   "cell_type": "code",
   "execution_count": null,
   "metadata": {
    "collapsed": true
   },
   "outputs": [],
   "source": []
  },
  {
   "cell_type": "code",
   "execution_count": 18,
   "metadata": {
    "collapsed": true
   },
   "outputs": [],
   "source": [
    "#Data of Prices\n",
    "df_2 = pd.read_csv('example_sprit_cut_prices.csv')"
   ]
  },
  {
   "cell_type": "code",
   "execution_count": 19,
   "metadata": {
    "collapsed": false
   },
   "outputs": [
    {
     "data": {
      "text/html": [
       "<div>\n",
       "<style scoped>\n",
       "    .dataframe tbody tr th:only-of-type {\n",
       "        vertical-align: middle;\n",
       "    }\n",
       "\n",
       "    .dataframe tbody tr th {\n",
       "        vertical-align: top;\n",
       "    }\n",
       "\n",
       "    .dataframe thead th {\n",
       "        text-align: right;\n",
       "    }\n",
       "</style>\n",
       "<table border=\"1\" class=\"dataframe\">\n",
       "  <thead>\n",
       "    <tr style=\"text-align: right;\">\n",
       "      <th></th>\n",
       "      <th>E5</th>\n",
       "      <th>E10</th>\n",
       "      <th>DIESEL</th>\n",
       "      <th>CHANGED</th>\n",
       "    </tr>\n",
       "  </thead>\n",
       "  <tbody>\n",
       "    <tr>\n",
       "      <th>count</th>\n",
       "      <td>1.033471e+06</td>\n",
       "      <td>1.033471e+06</td>\n",
       "      <td>1.033471e+06</td>\n",
       "      <td>1.033471e+06</td>\n",
       "    </tr>\n",
       "    <tr>\n",
       "      <th>mean</th>\n",
       "      <td>1.455434e+03</td>\n",
       "      <td>1.427606e+03</td>\n",
       "      <td>1.245517e+03</td>\n",
       "      <td>1.895458e+01</td>\n",
       "    </tr>\n",
       "    <tr>\n",
       "      <th>std</th>\n",
       "      <td>1.011221e+02</td>\n",
       "      <td>9.689516e+01</td>\n",
       "      <td>1.004966e+02</td>\n",
       "      <td>7.722413e+00</td>\n",
       "    </tr>\n",
       "    <tr>\n",
       "      <th>min</th>\n",
       "      <td>8.000000e+00</td>\n",
       "      <td>1.129000e+03</td>\n",
       "      <td>9.990000e+02</td>\n",
       "      <td>1.000000e+00</td>\n",
       "    </tr>\n",
       "    <tr>\n",
       "      <th>25%</th>\n",
       "      <td>1.379000e+03</td>\n",
       "      <td>1.359000e+03</td>\n",
       "      <td>1.169000e+03</td>\n",
       "      <td>2.100000e+01</td>\n",
       "    </tr>\n",
       "    <tr>\n",
       "      <th>50%</th>\n",
       "      <td>1.459000e+03</td>\n",
       "      <td>1.429000e+03</td>\n",
       "      <td>1.229000e+03</td>\n",
       "      <td>2.100000e+01</td>\n",
       "    </tr>\n",
       "    <tr>\n",
       "      <th>75%</th>\n",
       "      <td>1.529000e+03</td>\n",
       "      <td>1.499000e+03</td>\n",
       "      <td>1.319000e+03</td>\n",
       "      <td>2.100000e+01</td>\n",
       "    </tr>\n",
       "    <tr>\n",
       "      <th>max</th>\n",
       "      <td>1.759000e+03</td>\n",
       "      <td>1.729000e+03</td>\n",
       "      <td>1.129000e+04</td>\n",
       "      <td>6.300000e+01</td>\n",
       "    </tr>\n",
       "  </tbody>\n",
       "</table>\n",
       "</div>"
      ],
      "text/plain": [
       "                 E5           E10        DIESEL       CHANGED\n",
       "count  1.033471e+06  1.033471e+06  1.033471e+06  1.033471e+06\n",
       "mean   1.455434e+03  1.427606e+03  1.245517e+03  1.895458e+01\n",
       "std    1.011221e+02  9.689516e+01  1.004966e+02  7.722413e+00\n",
       "min    8.000000e+00  1.129000e+03  9.990000e+02  1.000000e+00\n",
       "25%    1.379000e+03  1.359000e+03  1.169000e+03  2.100000e+01\n",
       "50%    1.459000e+03  1.429000e+03  1.229000e+03  2.100000e+01\n",
       "75%    1.529000e+03  1.499000e+03  1.319000e+03  2.100000e+01\n",
       "max    1.759000e+03  1.729000e+03  1.129000e+04  6.300000e+01"
      ]
     },
     "execution_count": 19,
     "metadata": {},
     "output_type": "execute_result"
    }
   ],
   "source": [
    "#It shows the values before the dataset is cleaned\n",
    "df_2.describe()"
   ]
  },
  {
   "cell_type": "markdown",
   "metadata": {},
   "source": [
    "Here, we see that : min 'E5', min 'E10' and max 'E5' & 'E10' don't seem right. So our data is still not cleaned properly.\n",
    "Lets clean the data and check the result again."
   ]
  },
  {
   "cell_type": "code",
   "execution_count": 20,
   "metadata": {
    "collapsed": false
   },
   "outputs": [
    {
     "data": {
      "text/html": [
       "<div>\n",
       "<style scoped>\n",
       "    .dataframe tbody tr th:only-of-type {\n",
       "        vertical-align: middle;\n",
       "    }\n",
       "\n",
       "    .dataframe tbody tr th {\n",
       "        vertical-align: top;\n",
       "    }\n",
       "\n",
       "    .dataframe thead th {\n",
       "        text-align: right;\n",
       "    }\n",
       "</style>\n",
       "<table border=\"1\" class=\"dataframe\">\n",
       "  <thead>\n",
       "    <tr style=\"text-align: right;\">\n",
       "      <th></th>\n",
       "      <th>E5</th>\n",
       "      <th>E10</th>\n",
       "      <th>DIESEL</th>\n",
       "      <th>CHANGED</th>\n",
       "    </tr>\n",
       "  </thead>\n",
       "  <tbody>\n",
       "    <tr>\n",
       "      <th>count</th>\n",
       "      <td>1.033471e+06</td>\n",
       "      <td>1.033471e+06</td>\n",
       "      <td>1.033471e+06</td>\n",
       "      <td>1.033471e+06</td>\n",
       "    </tr>\n",
       "    <tr>\n",
       "      <th>mean</th>\n",
       "      <td>1.455434e+03</td>\n",
       "      <td>1.427606e+03</td>\n",
       "      <td>1.245517e+03</td>\n",
       "      <td>1.895458e+01</td>\n",
       "    </tr>\n",
       "    <tr>\n",
       "      <th>std</th>\n",
       "      <td>1.011221e+02</td>\n",
       "      <td>9.689516e+01</td>\n",
       "      <td>1.004966e+02</td>\n",
       "      <td>7.722413e+00</td>\n",
       "    </tr>\n",
       "    <tr>\n",
       "      <th>min</th>\n",
       "      <td>8.000000e+00</td>\n",
       "      <td>1.129000e+03</td>\n",
       "      <td>9.990000e+02</td>\n",
       "      <td>1.000000e+00</td>\n",
       "    </tr>\n",
       "    <tr>\n",
       "      <th>25%</th>\n",
       "      <td>1.379000e+03</td>\n",
       "      <td>1.359000e+03</td>\n",
       "      <td>1.169000e+03</td>\n",
       "      <td>2.100000e+01</td>\n",
       "    </tr>\n",
       "    <tr>\n",
       "      <th>50%</th>\n",
       "      <td>1.459000e+03</td>\n",
       "      <td>1.429000e+03</td>\n",
       "      <td>1.229000e+03</td>\n",
       "      <td>2.100000e+01</td>\n",
       "    </tr>\n",
       "    <tr>\n",
       "      <th>75%</th>\n",
       "      <td>1.529000e+03</td>\n",
       "      <td>1.499000e+03</td>\n",
       "      <td>1.319000e+03</td>\n",
       "      <td>2.100000e+01</td>\n",
       "    </tr>\n",
       "    <tr>\n",
       "      <th>max</th>\n",
       "      <td>1.759000e+03</td>\n",
       "      <td>1.729000e+03</td>\n",
       "      <td>1.129000e+04</td>\n",
       "      <td>6.300000e+01</td>\n",
       "    </tr>\n",
       "  </tbody>\n",
       "</table>\n",
       "</div>"
      ],
      "text/plain": [
       "                 E5           E10        DIESEL       CHANGED\n",
       "count  1.033471e+06  1.033471e+06  1.033471e+06  1.033471e+06\n",
       "mean   1.455434e+03  1.427606e+03  1.245517e+03  1.895458e+01\n",
       "std    1.011221e+02  9.689516e+01  1.004966e+02  7.722413e+00\n",
       "min    8.000000e+00  1.129000e+03  9.990000e+02  1.000000e+00\n",
       "25%    1.379000e+03  1.359000e+03  1.169000e+03  2.100000e+01\n",
       "50%    1.459000e+03  1.429000e+03  1.229000e+03  2.100000e+01\n",
       "75%    1.529000e+03  1.499000e+03  1.319000e+03  2.100000e+01\n",
       "max    1.759000e+03  1.729000e+03  1.129000e+04  6.300000e+01"
      ]
     },
     "execution_count": 20,
     "metadata": {},
     "output_type": "execute_result"
    }
   ],
   "source": [
    "df_2.describe()"
   ]
  },
  {
   "cell_type": "code",
   "execution_count": 19,
   "metadata": {
    "collapsed": false
   },
   "outputs": [],
   "source": [
    "#data = data.set_index(\"Area\")\n",
    "#data = data.drop(\"Ireland\", axis=0)\n",
    "#data[data[\"Area\"] == \"Ireland\"]\n",
    "\n",
    "#df.drop(df[df.score < 50].index, inplace=True)\n",
    "\n",
    "#df_2 = df_2.drop(df_2[df_2.E5 > 1700].index)\n",
    "#df_2 = df_2.set_index('E5')\n",
    "#df_2 = df_2.drop( > 1700, axis=0)"
   ]
  },
  {
   "cell_type": "code",
   "execution_count": 21,
   "metadata": {
    "collapsed": false
   },
   "outputs": [],
   "source": [
    "#filter dataset for E5 values\n",
    "df_2 = df_2[df_2.E5 < 1700]\n",
    "df_2 = df_2[df_2.E5 > 1000]"
   ]
  },
  {
   "cell_type": "code",
   "execution_count": 22,
   "metadata": {
    "collapsed": true
   },
   "outputs": [],
   "source": [
    "#filter dataset for E10 values\n",
    "df_2 = df_2[df_2.E10 < 1700]\n",
    "df_2 = df_2[df_2.E10 > 1000]"
   ]
  },
  {
   "cell_type": "code",
   "execution_count": 23,
   "metadata": {
    "collapsed": true
   },
   "outputs": [],
   "source": [
    "#filter dataset for E10 values\n",
    "df_2 = df_2[df_2.DIESEL < 1600]\n",
    "df_2 = df_2[df_2.DIESEL > 800]"
   ]
  },
  {
   "cell_type": "code",
   "execution_count": 24,
   "metadata": {
    "collapsed": false
   },
   "outputs": [
    {
     "data": {
      "text/plain": [
       "1032518"
      ]
     },
     "execution_count": 24,
     "metadata": {},
     "output_type": "execute_result"
    }
   ],
   "source": [
    "len(df_2)"
   ]
  },
  {
   "cell_type": "code",
   "execution_count": 25,
   "metadata": {
    "collapsed": false
   },
   "outputs": [
    {
     "data": {
      "text/html": [
       "<div>\n",
       "<style scoped>\n",
       "    .dataframe tbody tr th:only-of-type {\n",
       "        vertical-align: middle;\n",
       "    }\n",
       "\n",
       "    .dataframe tbody tr th {\n",
       "        vertical-align: top;\n",
       "    }\n",
       "\n",
       "    .dataframe thead th {\n",
       "        text-align: right;\n",
       "    }\n",
       "</style>\n",
       "<table border=\"1\" class=\"dataframe\">\n",
       "  <thead>\n",
       "    <tr style=\"text-align: right;\">\n",
       "      <th></th>\n",
       "      <th>E5</th>\n",
       "      <th>E10</th>\n",
       "      <th>DIESEL</th>\n",
       "      <th>CHANGED</th>\n",
       "    </tr>\n",
       "  </thead>\n",
       "  <tbody>\n",
       "    <tr>\n",
       "      <th>count</th>\n",
       "      <td>1.032518e+06</td>\n",
       "      <td>1.032518e+06</td>\n",
       "      <td>1.032518e+06</td>\n",
       "      <td>1.032518e+06</td>\n",
       "    </tr>\n",
       "    <tr>\n",
       "      <th>mean</th>\n",
       "      <td>1.455199e+03</td>\n",
       "      <td>1.427381e+03</td>\n",
       "      <td>1.245258e+03</td>\n",
       "      <td>1.895091e+01</td>\n",
       "    </tr>\n",
       "    <tr>\n",
       "      <th>std</th>\n",
       "      <td>1.008456e+02</td>\n",
       "      <td>9.665279e+01</td>\n",
       "      <td>9.924767e+01</td>\n",
       "      <td>7.718604e+00</td>\n",
       "    </tr>\n",
       "    <tr>\n",
       "      <th>min</th>\n",
       "      <td>1.159000e+03</td>\n",
       "      <td>1.129000e+03</td>\n",
       "      <td>9.990000e+02</td>\n",
       "      <td>1.000000e+00</td>\n",
       "    </tr>\n",
       "    <tr>\n",
       "      <th>25%</th>\n",
       "      <td>1.379000e+03</td>\n",
       "      <td>1.359000e+03</td>\n",
       "      <td>1.169000e+03</td>\n",
       "      <td>2.100000e+01</td>\n",
       "    </tr>\n",
       "    <tr>\n",
       "      <th>50%</th>\n",
       "      <td>1.459000e+03</td>\n",
       "      <td>1.429000e+03</td>\n",
       "      <td>1.229000e+03</td>\n",
       "      <td>2.100000e+01</td>\n",
       "    </tr>\n",
       "    <tr>\n",
       "      <th>75%</th>\n",
       "      <td>1.529000e+03</td>\n",
       "      <td>1.499000e+03</td>\n",
       "      <td>1.319000e+03</td>\n",
       "      <td>2.100000e+01</td>\n",
       "    </tr>\n",
       "    <tr>\n",
       "      <th>max</th>\n",
       "      <td>1.699000e+03</td>\n",
       "      <td>1.690000e+03</td>\n",
       "      <td>1.589000e+03</td>\n",
       "      <td>6.300000e+01</td>\n",
       "    </tr>\n",
       "  </tbody>\n",
       "</table>\n",
       "</div>"
      ],
      "text/plain": [
       "                 E5           E10        DIESEL       CHANGED\n",
       "count  1.032518e+06  1.032518e+06  1.032518e+06  1.032518e+06\n",
       "mean   1.455199e+03  1.427381e+03  1.245258e+03  1.895091e+01\n",
       "std    1.008456e+02  9.665279e+01  9.924767e+01  7.718604e+00\n",
       "min    1.159000e+03  1.129000e+03  9.990000e+02  1.000000e+00\n",
       "25%    1.379000e+03  1.359000e+03  1.169000e+03  2.100000e+01\n",
       "50%    1.459000e+03  1.429000e+03  1.229000e+03  2.100000e+01\n",
       "75%    1.529000e+03  1.499000e+03  1.319000e+03  2.100000e+01\n",
       "max    1.699000e+03  1.690000e+03  1.589000e+03  6.300000e+01"
      ]
     },
     "execution_count": 25,
     "metadata": {},
     "output_type": "execute_result"
    }
   ],
   "source": [
    "df_2.describe()"
   ]
  },
  {
   "cell_type": "markdown",
   "metadata": {},
   "source": [
    "Now the data looks clean enough to work with."
   ]
  },
  {
   "cell_type": "markdown",
   "metadata": {},
   "source": [
    "### 2. What is the min, mean, max price for each gasoline type and station weekly (time series graph).\n"
   ]
  },
  {
   "cell_type": "markdown",
   "metadata": {},
   "source": [
    "    /    E5      E10        Diesel\n",
    "    Min  1159    1129       999\n",
    "    Mean 1455    1427       1245\n",
    "    Max  1699    1690       1589\n"
   ]
  },
  {
   "cell_type": "markdown",
   "metadata": {},
   "source": [
    "### 3. What is cheapest station (in average) and why?"
   ]
  },
  {
   "cell_type": "code",
   "execution_count": 26,
   "metadata": {
    "collapsed": false
   },
   "outputs": [
    {
     "name": "stdout",
     "output_type": "stream",
     "text": [
      "                                        STID    E5   E10  DIESEL  \\\n",
      "75415   400ce1d0-e095-47dd-a0fc-6073edd7c8d2  1169  1149     999   \n",
      "113510  51d4b69f-a095-1aa0-e100-80009459e03a  1169  1149     999   \n",
      "115827  51d4b4e4-a095-1aa0-e100-80009459e03a  1169  1149     999   \n",
      "175750  51d4b4e4-a095-1aa0-e100-80009459e03a  1169  1149     999   \n",
      "538319  400ce1d0-e095-47dd-a0fc-6073edd7c8d2  1159  1139    1019   \n",
      "596003  51d4b69f-a095-1aa0-e100-80009459e03a  1169  1149     999   \n",
      "846787  400ce1d0-e095-47dd-a0fc-6073edd7c8d2  1159  1139    1019   \n",
      "\n",
      "                      DATE_CHANGED  CHANGED  \n",
      "75415   2015-01-22 19:25:01.000000       21  \n",
      "113510  2015-01-22 19:09:01.000000       21  \n",
      "115827  2015-01-22 19:09:01.000000       21  \n",
      "175750  2015-01-22 19:09:01.000000       21  \n",
      "538319  2015-01-16 13:26:01.000000       21  \n",
      "596003  2015-01-22 19:09:01.000000       21  \n",
      "846787  2015-01-16 13:26:01.000000       21  \n"
     ]
    }
   ],
   "source": [
    "cheap_stations = df_2[df_2['E5'] < 1190] \n",
    "cheap_stations = cheap_stations[cheap_stations['E10'] < 1155]\n",
    "cheap_stations = cheap_stations[cheap_stations['DIESEL'] < 1020]\n",
    "print(cheap_stations)"
   ]
  },
  {
   "cell_type": "code",
   "execution_count": 27,
   "metadata": {
    "collapsed": false
   },
   "outputs": [
    {
     "data": {
      "image/png": "[encoded data removed]",
      "text/plain": [
       "<Figure size 432x288 with 1 Axes>"
      ]
     },
     "metadata": {},
     "output_type": "display_data"
    }
   ],
   "source": [
    "#lets plot this data\n",
    "cheap_stations.plot(x='STID', y=[\"E5\", \"E10\", \"DIESEL\"], kind=\"bar\")\n",
    "plt.show()"
   ]
  },
  {
   "cell_type": "markdown",
   "metadata": {},
   "source": [
    "From the graph above, we can see that the Gas Station with ID:'400ce1d0-e095-47dd-a0fc-6073edd7c8d2'\n",
    "(Globus Handelshof GmbH & Co.KG Betriebsstätte) is the cheapest."
   ]
  },
  {
   "cell_type": "markdown",
   "metadata": {},
   "source": [
    "### 4. At which day of a week is the price most likely the cheapest (week profile)?\n",
    "On Thursdays, we see that the prices for 'E5' and 'E10' is the cheapest compared to other days. For 'DIESEL', its again cheaper on Thursdays but the price difference is not so much."
   ]
  },
  {
   "cell_type": "code",
   "execution_count": 28,
   "metadata": {
    "collapsed": true
   },
   "outputs": [],
   "source": [
    "#Convert date given to us in dataset according to our required format\n",
    "df_2['formatted_date'] = pd.to_datetime(df_2['DATE_CHANGED'])\n"
   ]
  },
  {
   "cell_type": "code",
   "execution_count": 29,
   "metadata": {
    "collapsed": false
   },
   "outputs": [
    {
     "data": {
      "text/html": [
       "<div>\n",
       "<style scoped>\n",
       "    .dataframe tbody tr th:only-of-type {\n",
       "        vertical-align: middle;\n",
       "    }\n",
       "\n",
       "    .dataframe tbody tr th {\n",
       "        vertical-align: top;\n",
       "    }\n",
       "\n",
       "    .dataframe thead th {\n",
       "        text-align: right;\n",
       "    }\n",
       "</style>\n",
       "<table border=\"1\" class=\"dataframe\">\n",
       "  <thead>\n",
       "    <tr style=\"text-align: right;\">\n",
       "      <th></th>\n",
       "      <th>STID</th>\n",
       "      <th>E5</th>\n",
       "      <th>E10</th>\n",
       "      <th>DIESEL</th>\n",
       "      <th>DATE_CHANGED</th>\n",
       "      <th>CHANGED</th>\n",
       "      <th>formatted_date</th>\n",
       "    </tr>\n",
       "  </thead>\n",
       "  <tbody>\n",
       "    <tr>\n",
       "      <th>0</th>\n",
       "      <td>01bf5a06-4248-43a5-9524-56123fa3ab2f</td>\n",
       "      <td>1569</td>\n",
       "      <td>1529</td>\n",
       "      <td>1369</td>\n",
       "      <td>2014-10-02 05:26:01.000000</td>\n",
       "      <td>21</td>\n",
       "      <td>2014-10-02 05:26:01</td>\n",
       "    </tr>\n",
       "    <tr>\n",
       "      <th>1</th>\n",
       "      <td>01bf5a06-4248-43a5-9524-56123fa3ab2f</td>\n",
       "      <td>1589</td>\n",
       "      <td>1549</td>\n",
       "      <td>1389</td>\n",
       "      <td>2014-10-02 05:22:01.000000</td>\n",
       "      <td>21</td>\n",
       "      <td>2014-10-02 05:22:01</td>\n",
       "    </tr>\n",
       "    <tr>\n",
       "      <th>2</th>\n",
       "      <td>01bf5a06-4248-43a5-9524-56123fa3ab2f</td>\n",
       "      <td>1569</td>\n",
       "      <td>1529</td>\n",
       "      <td>1359</td>\n",
       "      <td>2014-10-02 09:06:01.000000</td>\n",
       "      <td>1</td>\n",
       "      <td>2014-10-02 09:06:01</td>\n",
       "    </tr>\n",
       "    <tr>\n",
       "      <th>3</th>\n",
       "      <td>01bf5a06-4248-43a5-9524-56123fa3ab2f</td>\n",
       "      <td>1539</td>\n",
       "      <td>1499</td>\n",
       "      <td>1339</td>\n",
       "      <td>2014-10-03 12:14:01.000000</td>\n",
       "      <td>21</td>\n",
       "      <td>2014-10-03 12:14:01</td>\n",
       "    </tr>\n",
       "    <tr>\n",
       "      <th>4</th>\n",
       "      <td>01bf5a06-4248-43a5-9524-56123fa3ab2f</td>\n",
       "      <td>1529</td>\n",
       "      <td>1489</td>\n",
       "      <td>1329</td>\n",
       "      <td>2014-10-03 14:14:01.000000</td>\n",
       "      <td>21</td>\n",
       "      <td>2014-10-03 14:14:01</td>\n",
       "    </tr>\n",
       "  </tbody>\n",
       "</table>\n",
       "</div>"
      ],
      "text/plain": [
       "                                   STID    E5   E10  DIESEL  \\\n",
       "0  01bf5a06-4248-43a5-9524-56123fa3ab2f  1569  1529    1369   \n",
       "1  01bf5a06-4248-43a5-9524-56123fa3ab2f  1589  1549    1389   \n",
       "2  01bf5a06-4248-43a5-9524-56123fa3ab2f  1569  1529    1359   \n",
       "3  01bf5a06-4248-43a5-9524-56123fa3ab2f  1539  1499    1339   \n",
       "4  01bf5a06-4248-43a5-9524-56123fa3ab2f  1529  1489    1329   \n",
       "\n",
       "                 DATE_CHANGED  CHANGED      formatted_date  \n",
       "0  2014-10-02 05:26:01.000000       21 2014-10-02 05:26:01  \n",
       "1  2014-10-02 05:22:01.000000       21 2014-10-02 05:22:01  \n",
       "2  2014-10-02 09:06:01.000000        1 2014-10-02 09:06:01  \n",
       "3  2014-10-03 12:14:01.000000       21 2014-10-03 12:14:01  \n",
       "4  2014-10-03 14:14:01.000000       21 2014-10-03 14:14:01  "
      ]
     },
     "execution_count": 29,
     "metadata": {},
     "output_type": "execute_result"
    }
   ],
   "source": [
    "df_2.head()"
   ]
  },
  {
   "cell_type": "code",
   "execution_count": 30,
   "metadata": {
    "collapsed": true
   },
   "outputs": [],
   "source": [
    "#Converting the date data to Days of the week\n",
    "df_2['DAY_OF_WEEK'] = df_2.formatted_date.apply(lambda x: x.dayofweek)"
   ]
  },
  {
   "cell_type": "code",
   "execution_count": 31,
   "metadata": {
    "collapsed": false
   },
   "outputs": [
    {
     "data": {
      "text/html": [
       "<div>\n",
       "<style scoped>\n",
       "    .dataframe tbody tr th:only-of-type {\n",
       "        vertical-align: middle;\n",
       "    }\n",
       "\n",
       "    .dataframe tbody tr th {\n",
       "        vertical-align: top;\n",
       "    }\n",
       "\n",
       "    .dataframe thead th {\n",
       "        text-align: right;\n",
       "    }\n",
       "</style>\n",
       "<table border=\"1\" class=\"dataframe\">\n",
       "  <thead>\n",
       "    <tr style=\"text-align: right;\">\n",
       "      <th></th>\n",
       "      <th>STID</th>\n",
       "      <th>E5</th>\n",
       "      <th>E10</th>\n",
       "      <th>DIESEL</th>\n",
       "      <th>DATE_CHANGED</th>\n",
       "      <th>CHANGED</th>\n",
       "      <th>formatted_date</th>\n",
       "      <th>DAY_OF_WEEK</th>\n",
       "    </tr>\n",
       "  </thead>\n",
       "  <tbody>\n",
       "    <tr>\n",
       "      <th>0</th>\n",
       "      <td>01bf5a06-4248-43a5-9524-56123fa3ab2f</td>\n",
       "      <td>1569</td>\n",
       "      <td>1529</td>\n",
       "      <td>1369</td>\n",
       "      <td>2014-10-02 05:26:01.000000</td>\n",
       "      <td>21</td>\n",
       "      <td>2014-10-02 05:26:01</td>\n",
       "      <td>3</td>\n",
       "    </tr>\n",
       "    <tr>\n",
       "      <th>1</th>\n",
       "      <td>01bf5a06-4248-43a5-9524-56123fa3ab2f</td>\n",
       "      <td>1589</td>\n",
       "      <td>1549</td>\n",
       "      <td>1389</td>\n",
       "      <td>2014-10-02 05:22:01.000000</td>\n",
       "      <td>21</td>\n",
       "      <td>2014-10-02 05:22:01</td>\n",
       "      <td>3</td>\n",
       "    </tr>\n",
       "    <tr>\n",
       "      <th>2</th>\n",
       "      <td>01bf5a06-4248-43a5-9524-56123fa3ab2f</td>\n",
       "      <td>1569</td>\n",
       "      <td>1529</td>\n",
       "      <td>1359</td>\n",
       "      <td>2014-10-02 09:06:01.000000</td>\n",
       "      <td>1</td>\n",
       "      <td>2014-10-02 09:06:01</td>\n",
       "      <td>3</td>\n",
       "    </tr>\n",
       "    <tr>\n",
       "      <th>3</th>\n",
       "      <td>01bf5a06-4248-43a5-9524-56123fa3ab2f</td>\n",
       "      <td>1539</td>\n",
       "      <td>1499</td>\n",
       "      <td>1339</td>\n",
       "      <td>2014-10-03 12:14:01.000000</td>\n",
       "      <td>21</td>\n",
       "      <td>2014-10-03 12:14:01</td>\n",
       "      <td>4</td>\n",
       "    </tr>\n",
       "    <tr>\n",
       "      <th>4</th>\n",
       "      <td>01bf5a06-4248-43a5-9524-56123fa3ab2f</td>\n",
       "      <td>1529</td>\n",
       "      <td>1489</td>\n",
       "      <td>1329</td>\n",
       "      <td>2014-10-03 14:14:01.000000</td>\n",
       "      <td>21</td>\n",
       "      <td>2014-10-03 14:14:01</td>\n",
       "      <td>4</td>\n",
       "    </tr>\n",
       "    <tr>\n",
       "      <th>5</th>\n",
       "      <td>01bf5a06-4248-43a5-9524-56123fa3ab2f</td>\n",
       "      <td>1629</td>\n",
       "      <td>1589</td>\n",
       "      <td>1429</td>\n",
       "      <td>2014-10-04 23:10:01.000000</td>\n",
       "      <td>21</td>\n",
       "      <td>2014-10-04 23:10:01</td>\n",
       "      <td>5</td>\n",
       "    </tr>\n",
       "    <tr>\n",
       "      <th>6</th>\n",
       "      <td>01bf5a06-4248-43a5-9524-56123fa3ab2f</td>\n",
       "      <td>1549</td>\n",
       "      <td>1509</td>\n",
       "      <td>1389</td>\n",
       "      <td>2014-10-06 06:02:01.000000</td>\n",
       "      <td>20</td>\n",
       "      <td>2014-10-06 06:02:01</td>\n",
       "      <td>0</td>\n",
       "    </tr>\n",
       "    <tr>\n",
       "      <th>7</th>\n",
       "      <td>01bf5a06-4248-43a5-9524-56123fa3ab2f</td>\n",
       "      <td>1549</td>\n",
       "      <td>1509</td>\n",
       "      <td>1379</td>\n",
       "      <td>2014-10-06 07:38:01.000000</td>\n",
       "      <td>1</td>\n",
       "      <td>2014-10-06 07:38:01</td>\n",
       "      <td>0</td>\n",
       "    </tr>\n",
       "    <tr>\n",
       "      <th>8</th>\n",
       "      <td>01bf5a06-4248-43a5-9524-56123fa3ab2f</td>\n",
       "      <td>1549</td>\n",
       "      <td>1509</td>\n",
       "      <td>1339</td>\n",
       "      <td>2014-10-06 08:26:01.000000</td>\n",
       "      <td>1</td>\n",
       "      <td>2014-10-06 08:26:01</td>\n",
       "      <td>0</td>\n",
       "    </tr>\n",
       "    <tr>\n",
       "      <th>9</th>\n",
       "      <td>01bf5a06-4248-43a5-9524-56123fa3ab2f</td>\n",
       "      <td>1559</td>\n",
       "      <td>1519</td>\n",
       "      <td>1309</td>\n",
       "      <td>2014-10-07 07:38:01.000000</td>\n",
       "      <td>1</td>\n",
       "      <td>2014-10-07 07:38:01</td>\n",
       "      <td>1</td>\n",
       "    </tr>\n",
       "    <tr>\n",
       "      <th>10</th>\n",
       "      <td>01bf5a06-4248-43a5-9524-56123fa3ab2f</td>\n",
       "      <td>1559</td>\n",
       "      <td>1519</td>\n",
       "      <td>1299</td>\n",
       "      <td>2014-10-07 10:18:01.000000</td>\n",
       "      <td>1</td>\n",
       "      <td>2014-10-07 10:18:01</td>\n",
       "      <td>1</td>\n",
       "    </tr>\n",
       "    <tr>\n",
       "      <th>11</th>\n",
       "      <td>01bf5a06-4248-43a5-9524-56123fa3ab2f</td>\n",
       "      <td>1529</td>\n",
       "      <td>1489</td>\n",
       "      <td>1299</td>\n",
       "      <td>2014-10-07 10:22:01.000000</td>\n",
       "      <td>20</td>\n",
       "      <td>2014-10-07 10:22:01</td>\n",
       "      <td>1</td>\n",
       "    </tr>\n",
       "    <tr>\n",
       "      <th>12</th>\n",
       "      <td>01bf5a06-4248-43a5-9524-56123fa3ab2f</td>\n",
       "      <td>1619</td>\n",
       "      <td>1579</td>\n",
       "      <td>1419</td>\n",
       "      <td>2014-10-10 23:10:01.000000</td>\n",
       "      <td>21</td>\n",
       "      <td>2014-10-10 23:10:01</td>\n",
       "      <td>4</td>\n",
       "    </tr>\n",
       "    <tr>\n",
       "      <th>13</th>\n",
       "      <td>01bf5a06-4248-43a5-9524-56123fa3ab2f</td>\n",
       "      <td>1569</td>\n",
       "      <td>1529</td>\n",
       "      <td>1369</td>\n",
       "      <td>2014-10-11 06:22:02.000000</td>\n",
       "      <td>21</td>\n",
       "      <td>2014-10-11 06:22:02</td>\n",
       "      <td>5</td>\n",
       "    </tr>\n",
       "    <tr>\n",
       "      <th>14</th>\n",
       "      <td>01bf5a06-4248-43a5-9524-56123fa3ab2f</td>\n",
       "      <td>1619</td>\n",
       "      <td>1579</td>\n",
       "      <td>1419</td>\n",
       "      <td>2014-10-11 23:10:01.000000</td>\n",
       "      <td>21</td>\n",
       "      <td>2014-10-11 23:10:01</td>\n",
       "      <td>5</td>\n",
       "    </tr>\n",
       "    <tr>\n",
       "      <th>15</th>\n",
       "      <td>01bf5a06-4248-43a5-9524-56123fa3ab2f</td>\n",
       "      <td>1509</td>\n",
       "      <td>1469</td>\n",
       "      <td>1309</td>\n",
       "      <td>2014-10-13 11:34:01.000000</td>\n",
       "      <td>21</td>\n",
       "      <td>2014-10-13 11:34:01</td>\n",
       "      <td>0</td>\n",
       "    </tr>\n",
       "    <tr>\n",
       "      <th>16</th>\n",
       "      <td>01bf5a06-4248-43a5-9524-56123fa3ab2f</td>\n",
       "      <td>1519</td>\n",
       "      <td>1479</td>\n",
       "      <td>1309</td>\n",
       "      <td>2014-10-14 12:14:01.000000</td>\n",
       "      <td>21</td>\n",
       "      <td>2014-10-14 12:14:01</td>\n",
       "      <td>1</td>\n",
       "    </tr>\n",
       "    <tr>\n",
       "      <th>17</th>\n",
       "      <td>01bf5a06-4248-43a5-9524-56123fa3ab2f</td>\n",
       "      <td>1509</td>\n",
       "      <td>1469</td>\n",
       "      <td>1309</td>\n",
       "      <td>2014-10-14 12:18:01.000000</td>\n",
       "      <td>20</td>\n",
       "      <td>2014-10-14 12:18:01</td>\n",
       "      <td>1</td>\n",
       "    </tr>\n",
       "    <tr>\n",
       "      <th>18</th>\n",
       "      <td>01bf5a06-4248-43a5-9524-56123fa3ab2f</td>\n",
       "      <td>1499</td>\n",
       "      <td>1459</td>\n",
       "      <td>1309</td>\n",
       "      <td>2014-10-15 14:10:01.000000</td>\n",
       "      <td>21</td>\n",
       "      <td>2014-10-15 14:10:01</td>\n",
       "      <td>2</td>\n",
       "    </tr>\n",
       "    <tr>\n",
       "      <th>19</th>\n",
       "      <td>01bf5a06-4248-43a5-9524-56123fa3ab2f</td>\n",
       "      <td>1489</td>\n",
       "      <td>1449</td>\n",
       "      <td>1299</td>\n",
       "      <td>2014-10-15 14:18:01.000000</td>\n",
       "      <td>21</td>\n",
       "      <td>2014-10-15 14:18:01</td>\n",
       "      <td>2</td>\n",
       "    </tr>\n",
       "    <tr>\n",
       "      <th>20</th>\n",
       "      <td>01bf5a06-4248-43a5-9524-56123fa3ab2f</td>\n",
       "      <td>1479</td>\n",
       "      <td>1439</td>\n",
       "      <td>1289</td>\n",
       "      <td>2014-10-15 14:46:01.000000</td>\n",
       "      <td>21</td>\n",
       "      <td>2014-10-15 14:46:01</td>\n",
       "      <td>2</td>\n",
       "    </tr>\n",
       "    <tr>\n",
       "      <th>21</th>\n",
       "      <td>01bf5a06-4248-43a5-9524-56123fa3ab2f</td>\n",
       "      <td>1559</td>\n",
       "      <td>1519</td>\n",
       "      <td>1359</td>\n",
       "      <td>2014-10-17 23:06:01.000000</td>\n",
       "      <td>21</td>\n",
       "      <td>2014-10-17 23:06:01</td>\n",
       "      <td>4</td>\n",
       "    </tr>\n",
       "    <tr>\n",
       "      <th>22</th>\n",
       "      <td>01bf5a06-4248-43a5-9524-56123fa3ab2f</td>\n",
       "      <td>1509</td>\n",
       "      <td>1469</td>\n",
       "      <td>1329</td>\n",
       "      <td>2014-10-19 09:46:01.000000</td>\n",
       "      <td>21</td>\n",
       "      <td>2014-10-19 09:46:01</td>\n",
       "      <td>6</td>\n",
       "    </tr>\n",
       "    <tr>\n",
       "      <th>23</th>\n",
       "      <td>01bf5a06-4248-43a5-9524-56123fa3ab2f</td>\n",
       "      <td>1499</td>\n",
       "      <td>1459</td>\n",
       "      <td>1319</td>\n",
       "      <td>2014-10-19 09:50:01.000000</td>\n",
       "      <td>21</td>\n",
       "      <td>2014-10-19 09:50:01</td>\n",
       "      <td>6</td>\n",
       "    </tr>\n",
       "    <tr>\n",
       "      <th>24</th>\n",
       "      <td>01bf5a06-4248-43a5-9524-56123fa3ab2f</td>\n",
       "      <td>1469</td>\n",
       "      <td>1429</td>\n",
       "      <td>1289</td>\n",
       "      <td>2014-10-20 12:18:01.000000</td>\n",
       "      <td>21</td>\n",
       "      <td>2014-10-20 12:18:01</td>\n",
       "      <td>0</td>\n",
       "    </tr>\n",
       "    <tr>\n",
       "      <th>25</th>\n",
       "      <td>01bf5a06-4248-43a5-9524-56123fa3ab2f</td>\n",
       "      <td>1459</td>\n",
       "      <td>1419</td>\n",
       "      <td>1279</td>\n",
       "      <td>2014-10-20 13:10:01.000000</td>\n",
       "      <td>21</td>\n",
       "      <td>2014-10-20 13:10:01</td>\n",
       "      <td>0</td>\n",
       "    </tr>\n",
       "    <tr>\n",
       "      <th>26</th>\n",
       "      <td>01bf5a06-4248-43a5-9524-56123fa3ab2f</td>\n",
       "      <td>1449</td>\n",
       "      <td>1409</td>\n",
       "      <td>1279</td>\n",
       "      <td>2014-10-20 14:14:01.000000</td>\n",
       "      <td>20</td>\n",
       "      <td>2014-10-20 14:14:01</td>\n",
       "      <td>0</td>\n",
       "    </tr>\n",
       "    <tr>\n",
       "      <th>27</th>\n",
       "      <td>01bf5a06-4248-43a5-9524-56123fa3ab2f</td>\n",
       "      <td>1439</td>\n",
       "      <td>1399</td>\n",
       "      <td>1269</td>\n",
       "      <td>2014-10-21 14:18:01.000000</td>\n",
       "      <td>21</td>\n",
       "      <td>2014-10-21 14:18:01</td>\n",
       "      <td>1</td>\n",
       "    </tr>\n",
       "    <tr>\n",
       "      <th>28</th>\n",
       "      <td>01bf5a06-4248-43a5-9524-56123fa3ab2f</td>\n",
       "      <td>1429</td>\n",
       "      <td>1389</td>\n",
       "      <td>1259</td>\n",
       "      <td>2014-10-21 18:14:01.000000</td>\n",
       "      <td>21</td>\n",
       "      <td>2014-10-21 18:14:01</td>\n",
       "      <td>1</td>\n",
       "    </tr>\n",
       "    <tr>\n",
       "      <th>29</th>\n",
       "      <td>01bf5a06-4248-43a5-9524-56123fa3ab2f</td>\n",
       "      <td>1579</td>\n",
       "      <td>1539</td>\n",
       "      <td>1399</td>\n",
       "      <td>2014-10-23 23:10:01.000000</td>\n",
       "      <td>21</td>\n",
       "      <td>2014-10-23 23:10:01</td>\n",
       "      <td>3</td>\n",
       "    </tr>\n",
       "    <tr>\n",
       "      <th>...</th>\n",
       "      <td>...</td>\n",
       "      <td>...</td>\n",
       "      <td>...</td>\n",
       "      <td>...</td>\n",
       "      <td>...</td>\n",
       "      <td>...</td>\n",
       "      <td>...</td>\n",
       "      <td>...</td>\n",
       "    </tr>\n",
       "    <tr>\n",
       "      <th>1033441</th>\n",
       "      <td>b48682b4-d344-4bb9-8890-a8504912119d</td>\n",
       "      <td>1449</td>\n",
       "      <td>1429</td>\n",
       "      <td>1229</td>\n",
       "      <td>2015-04-30 16:54:01.000000</td>\n",
       "      <td>21</td>\n",
       "      <td>2015-04-30 16:54:01</td>\n",
       "      <td>3</td>\n",
       "    </tr>\n",
       "    <tr>\n",
       "      <th>1033442</th>\n",
       "      <td>b48682b4-d344-4bb9-8890-a8504912119d</td>\n",
       "      <td>1479</td>\n",
       "      <td>1459</td>\n",
       "      <td>1259</td>\n",
       "      <td>2015-04-30 20:02:01.000000</td>\n",
       "      <td>21</td>\n",
       "      <td>2015-04-30 20:02:01</td>\n",
       "      <td>3</td>\n",
       "    </tr>\n",
       "    <tr>\n",
       "      <th>1033443</th>\n",
       "      <td>b48682b4-d344-4bb9-8890-a8504912119d</td>\n",
       "      <td>1599</td>\n",
       "      <td>1579</td>\n",
       "      <td>1369</td>\n",
       "      <td>2015-04-30 22:06:01.000000</td>\n",
       "      <td>21</td>\n",
       "      <td>2015-04-30 22:06:01</td>\n",
       "      <td>3</td>\n",
       "    </tr>\n",
       "    <tr>\n",
       "      <th>1033444</th>\n",
       "      <td>b48682b4-d344-4bb9-8890-a8504912119d</td>\n",
       "      <td>1589</td>\n",
       "      <td>1569</td>\n",
       "      <td>1359</td>\n",
       "      <td>2015-05-02 05:22:01.000000</td>\n",
       "      <td>21</td>\n",
       "      <td>2015-05-02 05:22:01</td>\n",
       "      <td>5</td>\n",
       "    </tr>\n",
       "    <tr>\n",
       "      <th>1033445</th>\n",
       "      <td>b48682b4-d344-4bb9-8890-a8504912119d</td>\n",
       "      <td>1519</td>\n",
       "      <td>1499</td>\n",
       "      <td>1289</td>\n",
       "      <td>2015-05-02 06:22:01.000000</td>\n",
       "      <td>21</td>\n",
       "      <td>2015-05-02 06:22:01</td>\n",
       "      <td>5</td>\n",
       "    </tr>\n",
       "    <tr>\n",
       "      <th>1033446</th>\n",
       "      <td>b48682b4-d344-4bb9-8890-a8504912119d</td>\n",
       "      <td>1479</td>\n",
       "      <td>1459</td>\n",
       "      <td>1239</td>\n",
       "      <td>2015-05-02 09:22:01.000000</td>\n",
       "      <td>21</td>\n",
       "      <td>2015-05-02 09:22:01</td>\n",
       "      <td>5</td>\n",
       "    </tr>\n",
       "    <tr>\n",
       "      <th>1033447</th>\n",
       "      <td>b48682b4-d344-4bb9-8890-a8504912119d</td>\n",
       "      <td>1469</td>\n",
       "      <td>1449</td>\n",
       "      <td>1239</td>\n",
       "      <td>2015-05-03 12:22:01.000000</td>\n",
       "      <td>21</td>\n",
       "      <td>2015-05-03 12:22:01</td>\n",
       "      <td>6</td>\n",
       "    </tr>\n",
       "    <tr>\n",
       "      <th>1033448</th>\n",
       "      <td>b48682b4-d344-4bb9-8890-a8504912119d</td>\n",
       "      <td>1449</td>\n",
       "      <td>1429</td>\n",
       "      <td>1229</td>\n",
       "      <td>2015-05-03 13:54:01.000000</td>\n",
       "      <td>21</td>\n",
       "      <td>2015-05-03 13:54:01</td>\n",
       "      <td>6</td>\n",
       "    </tr>\n",
       "    <tr>\n",
       "      <th>1033449</th>\n",
       "      <td>b48682b4-d344-4bb9-8890-a8504912119d</td>\n",
       "      <td>1449</td>\n",
       "      <td>1429</td>\n",
       "      <td>1229</td>\n",
       "      <td>2015-05-04 16:50:01.000000</td>\n",
       "      <td>20</td>\n",
       "      <td>2015-05-04 16:50:01</td>\n",
       "      <td>0</td>\n",
       "    </tr>\n",
       "    <tr>\n",
       "      <th>1033450</th>\n",
       "      <td>b48682b4-d344-4bb9-8890-a8504912119d</td>\n",
       "      <td>1469</td>\n",
       "      <td>1449</td>\n",
       "      <td>1249</td>\n",
       "      <td>2015-05-05 16:38:01.000000</td>\n",
       "      <td>20</td>\n",
       "      <td>2015-05-05 16:38:01</td>\n",
       "      <td>1</td>\n",
       "    </tr>\n",
       "    <tr>\n",
       "      <th>1033451</th>\n",
       "      <td>b48682b4-d344-4bb9-8890-a8504912119d</td>\n",
       "      <td>1449</td>\n",
       "      <td>1429</td>\n",
       "      <td>1229</td>\n",
       "      <td>2015-05-05 16:58:01.000000</td>\n",
       "      <td>21</td>\n",
       "      <td>2015-05-05 16:58:01</td>\n",
       "      <td>1</td>\n",
       "    </tr>\n",
       "    <tr>\n",
       "      <th>1033452</th>\n",
       "      <td>b48682b4-d344-4bb9-8890-a8504912119d</td>\n",
       "      <td>1469</td>\n",
       "      <td>1449</td>\n",
       "      <td>1249</td>\n",
       "      <td>2015-05-06 17:18:01.000000</td>\n",
       "      <td>20</td>\n",
       "      <td>2015-05-06 17:18:01</td>\n",
       "      <td>2</td>\n",
       "    </tr>\n",
       "    <tr>\n",
       "      <th>1033453</th>\n",
       "      <td>b48682b4-d344-4bb9-8890-a8504912119d</td>\n",
       "      <td>1499</td>\n",
       "      <td>1479</td>\n",
       "      <td>1279</td>\n",
       "      <td>2015-05-06 20:02:01.000000</td>\n",
       "      <td>21</td>\n",
       "      <td>2015-05-06 20:02:01</td>\n",
       "      <td>2</td>\n",
       "    </tr>\n",
       "    <tr>\n",
       "      <th>1033454</th>\n",
       "      <td>b48682b4-d344-4bb9-8890-a8504912119d</td>\n",
       "      <td>1489</td>\n",
       "      <td>1469</td>\n",
       "      <td>1279</td>\n",
       "      <td>2015-05-06 20:22:01.000000</td>\n",
       "      <td>20</td>\n",
       "      <td>2015-05-06 20:22:01</td>\n",
       "      <td>2</td>\n",
       "    </tr>\n",
       "    <tr>\n",
       "      <th>1033455</th>\n",
       "      <td>b48682b4-d344-4bb9-8890-a8504912119d</td>\n",
       "      <td>1599</td>\n",
       "      <td>1579</td>\n",
       "      <td>1389</td>\n",
       "      <td>2015-05-06 22:02:01.000000</td>\n",
       "      <td>21</td>\n",
       "      <td>2015-05-06 22:02:01</td>\n",
       "      <td>2</td>\n",
       "    </tr>\n",
       "    <tr>\n",
       "      <th>1033456</th>\n",
       "      <td>b48682b4-d344-4bb9-8890-a8504912119d</td>\n",
       "      <td>1459</td>\n",
       "      <td>1439</td>\n",
       "      <td>1239</td>\n",
       "      <td>2015-05-07 18:42:01.000000</td>\n",
       "      <td>21</td>\n",
       "      <td>2015-05-07 18:42:01</td>\n",
       "      <td>3</td>\n",
       "    </tr>\n",
       "    <tr>\n",
       "      <th>1033457</th>\n",
       "      <td>b48682b4-d344-4bb9-8890-a8504912119d</td>\n",
       "      <td>1489</td>\n",
       "      <td>1469</td>\n",
       "      <td>1269</td>\n",
       "      <td>2015-05-07 20:02:01.000000</td>\n",
       "      <td>21</td>\n",
       "      <td>2015-05-07 20:02:01</td>\n",
       "      <td>3</td>\n",
       "    </tr>\n",
       "    <tr>\n",
       "      <th>1033458</th>\n",
       "      <td>b48682b4-d344-4bb9-8890-a8504912119d</td>\n",
       "      <td>1479</td>\n",
       "      <td>1459</td>\n",
       "      <td>1259</td>\n",
       "      <td>2015-05-07 20:26:01.000000</td>\n",
       "      <td>21</td>\n",
       "      <td>2015-05-07 20:26:01</td>\n",
       "      <td>3</td>\n",
       "    </tr>\n",
       "    <tr>\n",
       "      <th>1033459</th>\n",
       "      <td>b48682b4-d344-4bb9-8890-a8504912119d</td>\n",
       "      <td>1599</td>\n",
       "      <td>1579</td>\n",
       "      <td>1389</td>\n",
       "      <td>2015-05-07 22:06:01.000000</td>\n",
       "      <td>21</td>\n",
       "      <td>2015-05-07 22:06:01</td>\n",
       "      <td>3</td>\n",
       "    </tr>\n",
       "    <tr>\n",
       "      <th>1033460</th>\n",
       "      <td>b48682b4-d344-4bb9-8890-a8504912119d</td>\n",
       "      <td>1599</td>\n",
       "      <td>1579</td>\n",
       "      <td>1369</td>\n",
       "      <td>2015-05-08 05:22:01.000000</td>\n",
       "      <td>1</td>\n",
       "      <td>2015-05-08 05:22:01</td>\n",
       "      <td>4</td>\n",
       "    </tr>\n",
       "    <tr>\n",
       "      <th>1033461</th>\n",
       "      <td>b48682b4-d344-4bb9-8890-a8504912119d</td>\n",
       "      <td>1499</td>\n",
       "      <td>1479</td>\n",
       "      <td>1269</td>\n",
       "      <td>2015-05-08 20:02:01.000000</td>\n",
       "      <td>21</td>\n",
       "      <td>2015-05-08 20:02:01</td>\n",
       "      <td>4</td>\n",
       "    </tr>\n",
       "    <tr>\n",
       "      <th>1033462</th>\n",
       "      <td>b48682b4-d344-4bb9-8890-a8504912119d</td>\n",
       "      <td>1589</td>\n",
       "      <td>1569</td>\n",
       "      <td>1379</td>\n",
       "      <td>2015-05-08 22:02:01.000000</td>\n",
       "      <td>21</td>\n",
       "      <td>2015-05-08 22:02:01</td>\n",
       "      <td>4</td>\n",
       "    </tr>\n",
       "    <tr>\n",
       "      <th>1033463</th>\n",
       "      <td>b48682b4-d344-4bb9-8890-a8504912119d</td>\n",
       "      <td>1579</td>\n",
       "      <td>1559</td>\n",
       "      <td>1359</td>\n",
       "      <td>2015-05-09 05:22:01.000000</td>\n",
       "      <td>21</td>\n",
       "      <td>2015-05-09 05:22:01</td>\n",
       "      <td>5</td>\n",
       "    </tr>\n",
       "    <tr>\n",
       "      <th>1033464</th>\n",
       "      <td>b48682b4-d344-4bb9-8890-a8504912119d</td>\n",
       "      <td>1579</td>\n",
       "      <td>1559</td>\n",
       "      <td>1359</td>\n",
       "      <td>2015-05-10 05:22:01.000000</td>\n",
       "      <td>21</td>\n",
       "      <td>2015-05-10 05:22:01</td>\n",
       "      <td>6</td>\n",
       "    </tr>\n",
       "    <tr>\n",
       "      <th>1033465</th>\n",
       "      <td>b48682b4-d344-4bb9-8890-a8504912119d</td>\n",
       "      <td>1529</td>\n",
       "      <td>1509</td>\n",
       "      <td>1309</td>\n",
       "      <td>2015-05-10 06:54:01.000000</td>\n",
       "      <td>21</td>\n",
       "      <td>2015-05-10 06:54:01</td>\n",
       "      <td>6</td>\n",
       "    </tr>\n",
       "    <tr>\n",
       "      <th>1033466</th>\n",
       "      <td>b48682b4-d344-4bb9-8890-a8504912119d</td>\n",
       "      <td>1489</td>\n",
       "      <td>1469</td>\n",
       "      <td>1279</td>\n",
       "      <td>2015-05-11 12:22:01.000000</td>\n",
       "      <td>21</td>\n",
       "      <td>2015-05-11 12:22:01</td>\n",
       "      <td>0</td>\n",
       "    </tr>\n",
       "    <tr>\n",
       "      <th>1033467</th>\n",
       "      <td>b48682b4-d344-4bb9-8890-a8504912119d</td>\n",
       "      <td>1489</td>\n",
       "      <td>1469</td>\n",
       "      <td>1279</td>\n",
       "      <td>2015-05-12 12:58:01.000000</td>\n",
       "      <td>21</td>\n",
       "      <td>2015-05-12 12:58:01</td>\n",
       "      <td>1</td>\n",
       "    </tr>\n",
       "    <tr>\n",
       "      <th>1033468</th>\n",
       "      <td>b48682b4-d344-4bb9-8890-a8504912119d</td>\n",
       "      <td>1489</td>\n",
       "      <td>1469</td>\n",
       "      <td>1269</td>\n",
       "      <td>2015-05-12 14:42:01.000000</td>\n",
       "      <td>1</td>\n",
       "      <td>2015-05-12 14:42:01</td>\n",
       "      <td>1</td>\n",
       "    </tr>\n",
       "    <tr>\n",
       "      <th>1033469</th>\n",
       "      <td>b48682b4-d344-4bb9-8890-a8504912119d</td>\n",
       "      <td>1489</td>\n",
       "      <td>1469</td>\n",
       "      <td>1269</td>\n",
       "      <td>2015-05-13 12:22:01.000000</td>\n",
       "      <td>21</td>\n",
       "      <td>2015-05-13 12:22:01</td>\n",
       "      <td>2</td>\n",
       "    </tr>\n",
       "    <tr>\n",
       "      <th>1033470</th>\n",
       "      <td>b48682b4-d344-4bb9-8890-a8504912119d</td>\n",
       "      <td>1469</td>\n",
       "      <td>1449</td>\n",
       "      <td>1249</td>\n",
       "      <td>2015-05-13 16:46:01.000000</td>\n",
       "      <td>21</td>\n",
       "      <td>2015-05-13 16:46:01</td>\n",
       "      <td>2</td>\n",
       "    </tr>\n",
       "  </tbody>\n",
       "</table>\n",
       "<p>1032518 rows × 8 columns</p>\n",
       "</div>"
      ],
      "text/plain": [
       "                                         STID    E5   E10  DIESEL  \\\n",
       "0        01bf5a06-4248-43a5-9524-56123fa3ab2f  1569  1529    1369   \n",
       "1        01bf5a06-4248-43a5-9524-56123fa3ab2f  1589  1549    1389   \n",
       "2        01bf5a06-4248-43a5-9524-56123fa3ab2f  1569  1529    1359   \n",
       "3        01bf5a06-4248-43a5-9524-56123fa3ab2f  1539  1499    1339   \n",
       "4        01bf5a06-4248-43a5-9524-56123fa3ab2f  1529  1489    1329   \n",
       "5        01bf5a06-4248-43a5-9524-56123fa3ab2f  1629  1589    1429   \n",
       "6        01bf5a06-4248-43a5-9524-56123fa3ab2f  1549  1509    1389   \n",
       "7        01bf5a06-4248-43a5-9524-56123fa3ab2f  1549  1509    1379   \n",
       "8        01bf5a06-4248-43a5-9524-56123fa3ab2f  1549  1509    1339   \n",
       "9        01bf5a06-4248-43a5-9524-56123fa3ab2f  1559  1519    1309   \n",
       "10       01bf5a06-4248-43a5-9524-56123fa3ab2f  1559  1519    1299   \n",
       "11       01bf5a06-4248-43a5-9524-56123fa3ab2f  1529  1489    1299   \n",
       "12       01bf5a06-4248-43a5-9524-56123fa3ab2f  1619  1579    1419   \n",
       "13       01bf5a06-4248-43a5-9524-56123fa3ab2f  1569  1529    1369   \n",
       "14       01bf5a06-4248-43a5-9524-56123fa3ab2f  1619  1579    1419   \n",
       "15       01bf5a06-4248-43a5-9524-56123fa3ab2f  1509  1469    1309   \n",
       "16       01bf5a06-4248-43a5-9524-56123fa3ab2f  1519  1479    1309   \n",
       "17       01bf5a06-4248-43a5-9524-56123fa3ab2f  1509  1469    1309   \n",
       "18       01bf5a06-4248-43a5-9524-56123fa3ab2f  1499  1459    1309   \n",
       "19       01bf5a06-4248-43a5-9524-56123fa3ab2f  1489  1449    1299   \n",
       "20       01bf5a06-4248-43a5-9524-56123fa3ab2f  1479  1439    1289   \n",
       "21       01bf5a06-4248-43a5-9524-56123fa3ab2f  1559  1519    1359   \n",
       "22       01bf5a06-4248-43a5-9524-56123fa3ab2f  1509  1469    1329   \n",
       "23       01bf5a06-4248-43a5-9524-56123fa3ab2f  1499  1459    1319   \n",
       "24       01bf5a06-4248-43a5-9524-56123fa3ab2f  1469  1429    1289   \n",
       "25       01bf5a06-4248-43a5-9524-56123fa3ab2f  1459  1419    1279   \n",
       "26       01bf5a06-4248-43a5-9524-56123fa3ab2f  1449  1409    1279   \n",
       "27       01bf5a06-4248-43a5-9524-56123fa3ab2f  1439  1399    1269   \n",
       "28       01bf5a06-4248-43a5-9524-56123fa3ab2f  1429  1389    1259   \n",
       "29       01bf5a06-4248-43a5-9524-56123fa3ab2f  1579  1539    1399   \n",
       "...                                       ...   ...   ...     ...   \n",
       "1033441  b48682b4-d344-4bb9-8890-a8504912119d  1449  1429    1229   \n",
       "1033442  b48682b4-d344-4bb9-8890-a8504912119d  1479  1459    1259   \n",
       "1033443  b48682b4-d344-4bb9-8890-a8504912119d  1599  1579    1369   \n",
       "1033444  b48682b4-d344-4bb9-8890-a8504912119d  1589  1569    1359   \n",
       "1033445  b48682b4-d344-4bb9-8890-a8504912119d  1519  1499    1289   \n",
       "1033446  b48682b4-d344-4bb9-8890-a8504912119d  1479  1459    1239   \n",
       "1033447  b48682b4-d344-4bb9-8890-a8504912119d  1469  1449    1239   \n",
       "1033448  b48682b4-d344-4bb9-8890-a8504912119d  1449  1429    1229   \n",
       "1033449  b48682b4-d344-4bb9-8890-a8504912119d  1449  1429    1229   \n",
       "1033450  b48682b4-d344-4bb9-8890-a8504912119d  1469  1449    1249   \n",
       "1033451  b48682b4-d344-4bb9-8890-a8504912119d  1449  1429    1229   \n",
       "1033452  b48682b4-d344-4bb9-8890-a8504912119d  1469  1449    1249   \n",
       "1033453  b48682b4-d344-4bb9-8890-a8504912119d  1499  1479    1279   \n",
       "1033454  b48682b4-d344-4bb9-8890-a8504912119d  1489  1469    1279   \n",
       "1033455  b48682b4-d344-4bb9-8890-a8504912119d  1599  1579    1389   \n",
       "1033456  b48682b4-d344-4bb9-8890-a8504912119d  1459  1439    1239   \n",
       "1033457  b48682b4-d344-4bb9-8890-a8504912119d  1489  1469    1269   \n",
       "1033458  b48682b4-d344-4bb9-8890-a8504912119d  1479  1459    1259   \n",
       "1033459  b48682b4-d344-4bb9-8890-a8504912119d  1599  1579    1389   \n",
       "1033460  b48682b4-d344-4bb9-8890-a8504912119d  1599  1579    1369   \n",
       "1033461  b48682b4-d344-4bb9-8890-a8504912119d  1499  1479    1269   \n",
       "1033462  b48682b4-d344-4bb9-8890-a8504912119d  1589  1569    1379   \n",
       "1033463  b48682b4-d344-4bb9-8890-a8504912119d  1579  1559    1359   \n",
       "1033464  b48682b4-d344-4bb9-8890-a8504912119d  1579  1559    1359   \n",
       "1033465  b48682b4-d344-4bb9-8890-a8504912119d  1529  1509    1309   \n",
       "1033466  b48682b4-d344-4bb9-8890-a8504912119d  1489  1469    1279   \n",
       "1033467  b48682b4-d344-4bb9-8890-a8504912119d  1489  1469    1279   \n",
       "1033468  b48682b4-d344-4bb9-8890-a8504912119d  1489  1469    1269   \n",
       "1033469  b48682b4-d344-4bb9-8890-a8504912119d  1489  1469    1269   \n",
       "1033470  b48682b4-d344-4bb9-8890-a8504912119d  1469  1449    1249   \n",
       "\n",
       "                       DATE_CHANGED  CHANGED      formatted_date  DAY_OF_WEEK  \n",
       "0        2014-10-02 05:26:01.000000       21 2014-10-02 05:26:01            3  \n",
       "1        2014-10-02 05:22:01.000000       21 2014-10-02 05:22:01            3  \n",
       "2        2014-10-02 09:06:01.000000        1 2014-10-02 09:06:01            3  \n",
       "3        2014-10-03 12:14:01.000000       21 2014-10-03 12:14:01            4  \n",
       "4        2014-10-03 14:14:01.000000       21 2014-10-03 14:14:01            4  \n",
       "5        2014-10-04 23:10:01.000000       21 2014-10-04 23:10:01            5  \n",
       "6        2014-10-06 06:02:01.000000       20 2014-10-06 06:02:01            0  \n",
       "7        2014-10-06 07:38:01.000000        1 2014-10-06 07:38:01            0  \n",
       "8        2014-10-06 08:26:01.000000        1 2014-10-06 08:26:01            0  \n",
       "9        2014-10-07 07:38:01.000000        1 2014-10-07 07:38:01            1  \n",
       "10       2014-10-07 10:18:01.000000        1 2014-10-07 10:18:01            1  \n",
       "11       2014-10-07 10:22:01.000000       20 2014-10-07 10:22:01            1  \n",
       "12       2014-10-10 23:10:01.000000       21 2014-10-10 23:10:01            4  \n",
       "13       2014-10-11 06:22:02.000000       21 2014-10-11 06:22:02            5  \n",
       "14       2014-10-11 23:10:01.000000       21 2014-10-11 23:10:01            5  \n",
       "15       2014-10-13 11:34:01.000000       21 2014-10-13 11:34:01            0  \n",
       "16       2014-10-14 12:14:01.000000       21 2014-10-14 12:14:01            1  \n",
       "17       2014-10-14 12:18:01.000000       20 2014-10-14 12:18:01            1  \n",
       "18       2014-10-15 14:10:01.000000       21 2014-10-15 14:10:01            2  \n",
       "19       2014-10-15 14:18:01.000000       21 2014-10-15 14:18:01            2  \n",
       "20       2014-10-15 14:46:01.000000       21 2014-10-15 14:46:01            2  \n",
       "21       2014-10-17 23:06:01.000000       21 2014-10-17 23:06:01            4  \n",
       "22       2014-10-19 09:46:01.000000       21 2014-10-19 09:46:01            6  \n",
       "23       2014-10-19 09:50:01.000000       21 2014-10-19 09:50:01            6  \n",
       "24       2014-10-20 12:18:01.000000       21 2014-10-20 12:18:01            0  \n",
       "25       2014-10-20 13:10:01.000000       21 2014-10-20 13:10:01            0  \n",
       "26       2014-10-20 14:14:01.000000       20 2014-10-20 14:14:01            0  \n",
       "27       2014-10-21 14:18:01.000000       21 2014-10-21 14:18:01            1  \n",
       "28       2014-10-21 18:14:01.000000       21 2014-10-21 18:14:01            1  \n",
       "29       2014-10-23 23:10:01.000000       21 2014-10-23 23:10:01            3  \n",
       "...                             ...      ...                 ...          ...  \n",
       "1033441  2015-04-30 16:54:01.000000       21 2015-04-30 16:54:01            3  \n",
       "1033442  2015-04-30 20:02:01.000000       21 2015-04-30 20:02:01            3  \n",
       "1033443  2015-04-30 22:06:01.000000       21 2015-04-30 22:06:01            3  \n",
       "1033444  2015-05-02 05:22:01.000000       21 2015-05-02 05:22:01            5  \n",
       "1033445  2015-05-02 06:22:01.000000       21 2015-05-02 06:22:01            5  \n",
       "1033446  2015-05-02 09:22:01.000000       21 2015-05-02 09:22:01            5  \n",
       "1033447  2015-05-03 12:22:01.000000       21 2015-05-03 12:22:01            6  \n",
       "1033448  2015-05-03 13:54:01.000000       21 2015-05-03 13:54:01            6  \n",
       "1033449  2015-05-04 16:50:01.000000       20 2015-05-04 16:50:01            0  \n",
       "1033450  2015-05-05 16:38:01.000000       20 2015-05-05 16:38:01            1  \n",
       "1033451  2015-05-05 16:58:01.000000       21 2015-05-05 16:58:01            1  \n",
       "1033452  2015-05-06 17:18:01.000000       20 2015-05-06 17:18:01            2  \n",
       "1033453  2015-05-06 20:02:01.000000       21 2015-05-06 20:02:01            2  \n",
       "1033454  2015-05-06 20:22:01.000000       20 2015-05-06 20:22:01            2  \n",
       "1033455  2015-05-06 22:02:01.000000       21 2015-05-06 22:02:01            2  \n",
       "1033456  2015-05-07 18:42:01.000000       21 2015-05-07 18:42:01            3  \n",
       "1033457  2015-05-07 20:02:01.000000       21 2015-05-07 20:02:01            3  \n",
       "1033458  2015-05-07 20:26:01.000000       21 2015-05-07 20:26:01            3  \n",
       "1033459  2015-05-07 22:06:01.000000       21 2015-05-07 22:06:01            3  \n",
       "1033460  2015-05-08 05:22:01.000000        1 2015-05-08 05:22:01            4  \n",
       "1033461  2015-05-08 20:02:01.000000       21 2015-05-08 20:02:01            4  \n",
       "1033462  2015-05-08 22:02:01.000000       21 2015-05-08 22:02:01            4  \n",
       "1033463  2015-05-09 05:22:01.000000       21 2015-05-09 05:22:01            5  \n",
       "1033464  2015-05-10 05:22:01.000000       21 2015-05-10 05:22:01            6  \n",
       "1033465  2015-05-10 06:54:01.000000       21 2015-05-10 06:54:01            6  \n",
       "1033466  2015-05-11 12:22:01.000000       21 2015-05-11 12:22:01            0  \n",
       "1033467  2015-05-12 12:58:01.000000       21 2015-05-12 12:58:01            1  \n",
       "1033468  2015-05-12 14:42:01.000000        1 2015-05-12 14:42:01            1  \n",
       "1033469  2015-05-13 12:22:01.000000       21 2015-05-13 12:22:01            2  \n",
       "1033470  2015-05-13 16:46:01.000000       21 2015-05-13 16:46:01            2  \n",
       "\n",
       "[1032518 rows x 8 columns]"
      ]
     },
     "execution_count": 31,
     "metadata": {},
     "output_type": "execute_result"
    }
   ],
   "source": [
    "df_2"
   ]
  },
  {
   "cell_type": "code",
   "execution_count": 32,
   "metadata": {
    "collapsed": false
   },
   "outputs": [],
   "source": [
    "# So the approach here is to take 10000 cheapest price and then visualize them according to days\n",
    "# using box plot\n",
    "# Here days are denotted by numbers 0-6(Monday-Sunday)\n",
    "df_cheap = df_2.nsmallest(10000,['E5','E10','DIESEL'],keep = 'all')"
   ]
  },
  {
   "cell_type": "code",
   "execution_count": 33,
   "metadata": {
    "collapsed": false
   },
   "outputs": [
    {
     "data": {
      "image/png": "[encoded data removed]",
      "text/plain": [
       "<Figure size 432x288 with 1 Axes>"
      ]
     },
     "metadata": {},
     "output_type": "display_data"
    }
   ],
   "source": [
    "#Lets make boxplot of the data for E5\n",
    "sns.boxplot(x='DAY_OF_WEEK', y = 'E5', data = df_cheap)\n",
    "plt.show()"
   ]
  },
  {
   "cell_type": "code",
   "execution_count": 35,
   "metadata": {
    "collapsed": false
   },
   "outputs": [
    {
     "data": {
      "image/png": "[encoded data removed]",
      "text/plain": [
       "<Figure size 432x288 with 1 Axes>"
      ]
     },
     "metadata": {},
     "output_type": "display_data"
    }
   ],
   "source": [
    "#Lets make boxplot of the data for E10\n",
    "sns.boxplot(x='DAY_OF_WEEK', y = 'E10', data = df_cheap)\n",
    "plt.show()"
   ]
  },
  {
   "cell_type": "code",
   "execution_count": 36,
   "metadata": {
    "collapsed": false
   },
   "outputs": [
    {
     "data": {
      "image/png": "[encoded data removed]",
      "text/plain": [
       "<Figure size 432x288 with 1 Axes>"
      ]
     },
     "metadata": {},
     "output_type": "display_data"
    }
   ],
   "source": [
    "#Lets make boxplot of the data for DIESEL\n",
    "sns.boxplot(x='DAY_OF_WEEK', y = 'DIESEL', data = df_cheap)\n",
    "plt.show()"
   ]
  },
  {
   "cell_type": "code",
   "execution_count": null,
   "metadata": {
    "collapsed": true
   },
   "outputs": [],
   "source": []
  },
  {
   "cell_type": "markdown",
   "metadata": {},
   "source": [
    "### 5. At which hour during a day is the price the cheapest in average (hour profile)?"
   ]
  },
  {
   "cell_type": "code",
   "execution_count": 37,
   "metadata": {
    "collapsed": false
   },
   "outputs": [],
   "source": [
    "#Extract only hour from dataframe\n",
    "#df['hour'] = pd.to_datetime(df['time'], format='%H:%M').dt.hour\n",
    "df_2['formatted_time'] = pd.to_datetime(df_2['formatted_date']).dt.hour"
   ]
  },
  {
   "cell_type": "code",
   "execution_count": 38,
   "metadata": {
    "collapsed": false
   },
   "outputs": [],
   "source": [
    "hourly = pd.DataFrame()\n",
    "hourly = df_2"
   ]
  },
  {
   "cell_type": "code",
   "execution_count": 39,
   "metadata": {
    "collapsed": false
   },
   "outputs": [],
   "source": [
    "hourly['E5'] = df_2['E5']\n",
    "hourly['E10'] = df_2['E10']\n",
    "hourly['DIESEL'] = df_2['DIESEL']\n",
    "hourly['formatted_date'] = df_2['formatted_date']\n",
    "hourly['DATE_CHANGED'] = df_2['DATE_CHANGED']\n",
    "hourly['formatted_time'] = df_2['formatted_time']"
   ]
  },
  {
   "cell_type": "code",
   "execution_count": 40,
   "metadata": {
    "collapsed": false
   },
   "outputs": [
    {
     "data": {
      "text/plain": [
       "0     5\n",
       "1     5\n",
       "2     9\n",
       "3    12\n",
       "4    14\n",
       "Name: formatted_time, dtype: int64"
      ]
     },
     "execution_count": 40,
     "metadata": {},
     "output_type": "execute_result"
    }
   ],
   "source": [
    "df_2['formatted_time'].head()"
   ]
  },
  {
   "cell_type": "code",
   "execution_count": 101,
   "metadata": {
    "collapsed": false
   },
   "outputs": [
    {
     "data": {
      "image/png": "[encoded data removed]",
      "text/plain": [
       "<Figure size 432x288 with 1 Axes>"
      ]
     },
     "metadata": {},
     "output_type": "display_data"
    }
   ],
   "source": [
    "from scipy.stats import gaussian_kde\n",
    "# Calculate the point density\n",
    "x = hourly['formatted_time'][0:50000]\n",
    "y = hourly['E5'][0:50000]\n",
    "xy = np.vstack([x,y])\n",
    "z = gaussian_kde(xy)(xy)\n",
    "plt.title('E5')\n",
    "\n",
    "plt.scatter(x, y, c=z, s=100, edgecolor='')\n",
    "plt.show()"
   ]
  },
  {
   "cell_type": "markdown",
   "metadata": {
    "collapsed": true
   },
   "source": [
    "According to the density graph above, we see that the E5 gasoline is more frequently cheaper from 11-13hr."
   ]
  },
  {
   "cell_type": "code",
   "execution_count": 85,
   "metadata": {
    "collapsed": false
   },
   "outputs": [
    {
     "data": {
      "image/png": "[encoded data removed]",
      "text/plain": [
       "<Figure size 432x288 with 1 Axes>"
      ]
     },
     "metadata": {},
     "output_type": "display_data"
    }
   ],
   "source": [
    "x = hourly['formatted_time'][0:100000]\n",
    "y = hourly['E10'][0:100000]\n",
    "xy = np.vstack([x,y])\n",
    "z = gaussian_kde(xy)(xy)\n",
    "plt.title('E10')\n",
    "\n",
    "plt.scatter(x, y, c=z, s=100, edgecolor='')\n",
    "#plt.scatter(hourly['formatted_time'][0:100000],hourly['E10'][0:100000])\n",
    "plt.show()"
   ]
  },
  {
   "cell_type": "markdown",
   "metadata": {},
   "source": [
    "Same as above graph has cheaper E10 gasoline frequently around 11-13hr."
   ]
  },
  {
   "cell_type": "code",
   "execution_count": 86,
   "metadata": {
    "collapsed": false
   },
   "outputs": [
    {
     "data": {
      "image/png": "[encoded data removed]",
      "text/plain": [
       "<Figure size 432x288 with 1 Axes>"
      ]
     },
     "metadata": {},
     "output_type": "display_data"
    }
   ],
   "source": [
    "x = hourly['formatted_time'][0:100000]\n",
    "y = hourly['DIESEL'][0:100000]\n",
    "xy = np.vstack([x,y])\n",
    "z = gaussian_kde(xy)(xy)\n",
    "plt.title('DIESEL')\n",
    "\n",
    "plt.scatter(x, y, c=z, s=100, edgecolor='')\n",
    "#plt.scatter(hourly['formatted_time'][0:100000],hourly['E10'][0:100000])\n",
    "plt.show()"
   ]
  },
  {
   "cell_type": "markdown",
   "metadata": {},
   "source": [
    "We see that prices have been cheapest around 15-16hr (DIESEL)."
   ]
  },
  {
   "cell_type": "code",
   "execution_count": null,
   "metadata": {
    "collapsed": true
   },
   "outputs": [],
   "source": []
  },
  {
   "cell_type": "markdown",
   "metadata": {
    "collapsed": true
   },
   "source": [
    "### 6. How many different station locations are present in the data (visualize via a map)?"
   ]
  },
  {
   "cell_type": "code",
   "execution_count": null,
   "metadata": {
    "collapsed": true
   },
   "outputs": [],
   "source": []
  },
  {
   "cell_type": "markdown",
   "metadata": {
    "collapsed": true
   },
   "source": [
    "### 7. What is the gas station which has most price data points, choose one and draw the time series for all 3 gasoline types."
   ]
  },
  {
   "cell_type": "code",
   "execution_count": 43,
   "metadata": {
    "collapsed": false
   },
   "outputs": [],
   "source": [
    "# Find the frequency of each station in the price data\n",
    "station_freq_prices = df_2['STID'].value_counts().rename_axis('ID').reset_index(name='COUNTS')"
   ]
  },
  {
   "cell_type": "code",
   "execution_count": 44,
   "metadata": {
    "collapsed": false
   },
   "outputs": [
    {
     "data": {
      "text/html": [
       "<div>\n",
       "<style scoped>\n",
       "    .dataframe tbody tr th:only-of-type {\n",
       "        vertical-align: middle;\n",
       "    }\n",
       "\n",
       "    .dataframe tbody tr th {\n",
       "        vertical-align: top;\n",
       "    }\n",
       "\n",
       "    .dataframe thead th {\n",
       "        text-align: right;\n",
       "    }\n",
       "</style>\n",
       "<table border=\"1\" class=\"dataframe\">\n",
       "  <thead>\n",
       "    <tr style=\"text-align: right;\">\n",
       "      <th></th>\n",
       "      <th>ID</th>\n",
       "      <th>COUNTS</th>\n",
       "    </tr>\n",
       "  </thead>\n",
       "  <tbody>\n",
       "    <tr>\n",
       "      <th>0</th>\n",
       "      <td>e50f3cfa-f32b-48e7-8304-a9f3d40d9996</td>\n",
       "      <td>6520</td>\n",
       "    </tr>\n",
       "    <tr>\n",
       "      <th>1</th>\n",
       "      <td>7aafc62a-a9e0-4cd2-83ad-345dfec172a0</td>\n",
       "      <td>6290</td>\n",
       "    </tr>\n",
       "    <tr>\n",
       "      <th>2</th>\n",
       "      <td>e6eb9adc-77d0-4f03-9549-799b691f3ff4</td>\n",
       "      <td>6009</td>\n",
       "    </tr>\n",
       "    <tr>\n",
       "      <th>3</th>\n",
       "      <td>daf56df5-bb5f-4297-a4bb-a0f444139d7f</td>\n",
       "      <td>5982</td>\n",
       "    </tr>\n",
       "    <tr>\n",
       "      <th>4</th>\n",
       "      <td>d133b8ca-83eb-431c-8b35-0ae3b955ebbe</td>\n",
       "      <td>5978</td>\n",
       "    </tr>\n",
       "    <tr>\n",
       "      <th>5</th>\n",
       "      <td>e991a489-6456-38af-e040-0b0a3dfe7c4f</td>\n",
       "      <td>5833</td>\n",
       "    </tr>\n",
       "    <tr>\n",
       "      <th>6</th>\n",
       "      <td>51d4b551-a095-1aa0-e100-80009459e03a</td>\n",
       "      <td>5822</td>\n",
       "    </tr>\n",
       "    <tr>\n",
       "      <th>7</th>\n",
       "      <td>51d4b553-a095-1aa0-e100-80009459e03a</td>\n",
       "      <td>5744</td>\n",
       "    </tr>\n",
       "    <tr>\n",
       "      <th>8</th>\n",
       "      <td>51d4b4e4-a095-1aa0-e100-80009459e03a</td>\n",
       "      <td>5700</td>\n",
       "    </tr>\n",
       "    <tr>\n",
       "      <th>9</th>\n",
       "      <td>14ec4b5b-18f3-4664-b768-1958f9e3b49f</td>\n",
       "      <td>5698</td>\n",
       "    </tr>\n",
       "    <tr>\n",
       "      <th>10</th>\n",
       "      <td>8d2cc77a-e636-403d-a4f6-9260ff4c9c16</td>\n",
       "      <td>5645</td>\n",
       "    </tr>\n",
       "    <tr>\n",
       "      <th>11</th>\n",
       "      <td>8607b08c-fdc8-4e54-8c0e-3403b333437d</td>\n",
       "      <td>5587</td>\n",
       "    </tr>\n",
       "    <tr>\n",
       "      <th>12</th>\n",
       "      <td>9247742f-2957-4777-b8b5-06786141aa14</td>\n",
       "      <td>5488</td>\n",
       "    </tr>\n",
       "    <tr>\n",
       "      <th>13</th>\n",
       "      <td>c393f0a6-2197-403a-ac89-e6a59be3ff50</td>\n",
       "      <td>5388</td>\n",
       "    </tr>\n",
       "    <tr>\n",
       "      <th>14</th>\n",
       "      <td>061716a5-f4a6-4983-a36e-8ef1e8ce17e0</td>\n",
       "      <td>5243</td>\n",
       "    </tr>\n",
       "    <tr>\n",
       "      <th>15</th>\n",
       "      <td>fdca8d3a-c7e7-4fe1-ad17-27772aab7d62</td>\n",
       "      <td>5219</td>\n",
       "    </tr>\n",
       "    <tr>\n",
       "      <th>16</th>\n",
       "      <td>7c848417-1490-4752-9766-d05859b23f72</td>\n",
       "      <td>5160</td>\n",
       "    </tr>\n",
       "    <tr>\n",
       "      <th>17</th>\n",
       "      <td>51d4b598-a095-1aa0-e100-80009459e03a</td>\n",
       "      <td>5144</td>\n",
       "    </tr>\n",
       "    <tr>\n",
       "      <th>18</th>\n",
       "      <td>0f2e0c50-51c1-4a4f-bfdb-c6f2eb676893</td>\n",
       "      <td>5092</td>\n",
       "    </tr>\n",
       "    <tr>\n",
       "      <th>19</th>\n",
       "      <td>51b4b85c-a7fc-4b60-bde2-bbee6031bb8d</td>\n",
       "      <td>5052</td>\n",
       "    </tr>\n",
       "    <tr>\n",
       "      <th>20</th>\n",
       "      <td>e935427e-bd37-4daf-979c-b4fe2d112981</td>\n",
       "      <td>4980</td>\n",
       "    </tr>\n",
       "    <tr>\n",
       "      <th>21</th>\n",
       "      <td>5374ea5c-bf3e-4b0a-8504-049368adcdba</td>\n",
       "      <td>4978</td>\n",
       "    </tr>\n",
       "    <tr>\n",
       "      <th>22</th>\n",
       "      <td>dbb0a607-7b91-42bf-af87-0c06c45991ed</td>\n",
       "      <td>4937</td>\n",
       "    </tr>\n",
       "    <tr>\n",
       "      <th>23</th>\n",
       "      <td>8a0bc647-d690-4e43-9e80-479e422af7df</td>\n",
       "      <td>4910</td>\n",
       "    </tr>\n",
       "    <tr>\n",
       "      <th>24</th>\n",
       "      <td>51d4b71a-a095-1aa0-e100-80009459e03a</td>\n",
       "      <td>4880</td>\n",
       "    </tr>\n",
       "    <tr>\n",
       "      <th>25</th>\n",
       "      <td>51d4b48c-a095-1aa0-e100-80009459e03a</td>\n",
       "      <td>4859</td>\n",
       "    </tr>\n",
       "    <tr>\n",
       "      <th>26</th>\n",
       "      <td>51d4b63b-a095-1aa0-e100-80009459e03a</td>\n",
       "      <td>4839</td>\n",
       "    </tr>\n",
       "    <tr>\n",
       "      <th>27</th>\n",
       "      <td>51d4b6bb-a095-1aa0-e100-80009459e03a</td>\n",
       "      <td>4823</td>\n",
       "    </tr>\n",
       "    <tr>\n",
       "      <th>28</th>\n",
       "      <td>17ac8e20-e554-4819-873d-0e6776201823</td>\n",
       "      <td>4786</td>\n",
       "    </tr>\n",
       "    <tr>\n",
       "      <th>29</th>\n",
       "      <td>51d4b432-a095-1aa0-e100-80009459e03a</td>\n",
       "      <td>4776</td>\n",
       "    </tr>\n",
       "    <tr>\n",
       "      <th>...</th>\n",
       "      <td>...</td>\n",
       "      <td>...</td>\n",
       "    </tr>\n",
       "    <tr>\n",
       "      <th>370</th>\n",
       "      <td>e80169b2-1a75-457c-9e92-8da3d77a0f5d</td>\n",
       "      <td>791</td>\n",
       "    </tr>\n",
       "    <tr>\n",
       "      <th>371</th>\n",
       "      <td>c615c080-915b-4d1e-8d65-54286e3c4acc</td>\n",
       "      <td>790</td>\n",
       "    </tr>\n",
       "    <tr>\n",
       "      <th>372</th>\n",
       "      <td>f0f73c6d-a1a6-4e06-dbb9-6fd2d1cf72df</td>\n",
       "      <td>785</td>\n",
       "    </tr>\n",
       "    <tr>\n",
       "      <th>373</th>\n",
       "      <td>a36a053d-2384-4d6b-a677-7f2d8abc3f01</td>\n",
       "      <td>776</td>\n",
       "    </tr>\n",
       "    <tr>\n",
       "      <th>374</th>\n",
       "      <td>044b327b-8726-428a-867c-a48235121cf2</td>\n",
       "      <td>756</td>\n",
       "    </tr>\n",
       "    <tr>\n",
       "      <th>375</th>\n",
       "      <td>8e04a261-815f-43f8-a5ba-20d12c5b3273</td>\n",
       "      <td>751</td>\n",
       "    </tr>\n",
       "    <tr>\n",
       "      <th>376</th>\n",
       "      <td>8210437c-c3e9-4b5a-a62a-8f18c2cee833</td>\n",
       "      <td>735</td>\n",
       "    </tr>\n",
       "    <tr>\n",
       "      <th>377</th>\n",
       "      <td>00060562-0001-4444-8888-acdc00000001</td>\n",
       "      <td>647</td>\n",
       "    </tr>\n",
       "    <tr>\n",
       "      <th>378</th>\n",
       "      <td>805a5d72-50bb-438a-a243-978a19ec2691</td>\n",
       "      <td>604</td>\n",
       "    </tr>\n",
       "    <tr>\n",
       "      <th>379</th>\n",
       "      <td>85aae4a5-89c0-44c7-b994-d8fdc325ca48</td>\n",
       "      <td>540</td>\n",
       "    </tr>\n",
       "    <tr>\n",
       "      <th>380</th>\n",
       "      <td>e8729196-1156-4f0d-e325-440e5a3745b3</td>\n",
       "      <td>487</td>\n",
       "    </tr>\n",
       "    <tr>\n",
       "      <th>381</th>\n",
       "      <td>f34f9241-6f55-48c6-aa4c-ee19f7272a22</td>\n",
       "      <td>482</td>\n",
       "    </tr>\n",
       "    <tr>\n",
       "      <th>382</th>\n",
       "      <td>79f03b0b-7324-402b-853b-16b667228112</td>\n",
       "      <td>481</td>\n",
       "    </tr>\n",
       "    <tr>\n",
       "      <th>383</th>\n",
       "      <td>00060710-0001-4444-8888-acdc00000001</td>\n",
       "      <td>466</td>\n",
       "    </tr>\n",
       "    <tr>\n",
       "      <th>384</th>\n",
       "      <td>23550389-c41c-43d1-9f34-a91270c59530</td>\n",
       "      <td>398</td>\n",
       "    </tr>\n",
       "    <tr>\n",
       "      <th>385</th>\n",
       "      <td>72046e37-447b-456e-86d8-7832c05aa88f</td>\n",
       "      <td>397</td>\n",
       "    </tr>\n",
       "    <tr>\n",
       "      <th>386</th>\n",
       "      <td>a00a98c1-6216-4ead-86ee-ae5df2035e1b</td>\n",
       "      <td>378</td>\n",
       "    </tr>\n",
       "    <tr>\n",
       "      <th>387</th>\n",
       "      <td>4b3c04a2-dc5a-44b9-ab23-dfb9072e115c</td>\n",
       "      <td>341</td>\n",
       "    </tr>\n",
       "    <tr>\n",
       "      <th>388</th>\n",
       "      <td>a0ad7e17-ff61-47cf-80b9-c17183527ee5</td>\n",
       "      <td>308</td>\n",
       "    </tr>\n",
       "    <tr>\n",
       "      <th>389</th>\n",
       "      <td>ba10c89e-d2f8-46d9-8ec5-6060bc32e89a</td>\n",
       "      <td>265</td>\n",
       "    </tr>\n",
       "    <tr>\n",
       "      <th>390</th>\n",
       "      <td>0c94d112-d3d4-4a98-a20d-138f7c5e1064</td>\n",
       "      <td>196</td>\n",
       "    </tr>\n",
       "    <tr>\n",
       "      <th>391</th>\n",
       "      <td>00060385-0001-4444-8888-acdc00000001</td>\n",
       "      <td>181</td>\n",
       "    </tr>\n",
       "    <tr>\n",
       "      <th>392</th>\n",
       "      <td>de1e26ff-6fb8-436e-b819-877ab581527a</td>\n",
       "      <td>109</td>\n",
       "    </tr>\n",
       "    <tr>\n",
       "      <th>393</th>\n",
       "      <td>eef314cf-a84a-4648-9284-c2df1efa36c9</td>\n",
       "      <td>96</td>\n",
       "    </tr>\n",
       "    <tr>\n",
       "      <th>394</th>\n",
       "      <td>c0cd87f5-64c3-4cb9-b424-9f3ac71e0678</td>\n",
       "      <td>80</td>\n",
       "    </tr>\n",
       "    <tr>\n",
       "      <th>395</th>\n",
       "      <td>f4f11a3c-a8d0-4742-874d-4f2d8d6b3572</td>\n",
       "      <td>80</td>\n",
       "    </tr>\n",
       "    <tr>\n",
       "      <th>396</th>\n",
       "      <td>12df4ed4-df41-45ff-8189-4b8a31236b2c</td>\n",
       "      <td>46</td>\n",
       "    </tr>\n",
       "    <tr>\n",
       "      <th>397</th>\n",
       "      <td>ef71bc50-b1f6-4fc6-ac96-6340c71c9bb9</td>\n",
       "      <td>46</td>\n",
       "    </tr>\n",
       "    <tr>\n",
       "      <th>398</th>\n",
       "      <td>01ddc2f2-35ca-4a02-a47c-190ebabe558b</td>\n",
       "      <td>18</td>\n",
       "    </tr>\n",
       "    <tr>\n",
       "      <th>399</th>\n",
       "      <td>82e92aca-b1ec-4bcf-3ab5-f192910c2716</td>\n",
       "      <td>9</td>\n",
       "    </tr>\n",
       "  </tbody>\n",
       "</table>\n",
       "<p>400 rows × 2 columns</p>\n",
       "</div>"
      ],
      "text/plain": [
       "                                       ID  COUNTS\n",
       "0    e50f3cfa-f32b-48e7-8304-a9f3d40d9996    6520\n",
       "1    7aafc62a-a9e0-4cd2-83ad-345dfec172a0    6290\n",
       "2    e6eb9adc-77d0-4f03-9549-799b691f3ff4    6009\n",
       "3    daf56df5-bb5f-4297-a4bb-a0f444139d7f    5982\n",
       "4    d133b8ca-83eb-431c-8b35-0ae3b955ebbe    5978\n",
       "5    e991a489-6456-38af-e040-0b0a3dfe7c4f    5833\n",
       "6    51d4b551-a095-1aa0-e100-80009459e03a    5822\n",
       "7    51d4b553-a095-1aa0-e100-80009459e03a    5744\n",
       "8    51d4b4e4-a095-1aa0-e100-80009459e03a    5700\n",
       "9    14ec4b5b-18f3-4664-b768-1958f9e3b49f    5698\n",
       "10   8d2cc77a-e636-403d-a4f6-9260ff4c9c16    5645\n",
       "11   8607b08c-fdc8-4e54-8c0e-3403b333437d    5587\n",
       "12   9247742f-2957-4777-b8b5-06786141aa14    5488\n",
       "13   c393f0a6-2197-403a-ac89-e6a59be3ff50    5388\n",
       "14   061716a5-f4a6-4983-a36e-8ef1e8ce17e0    5243\n",
       "15   fdca8d3a-c7e7-4fe1-ad17-27772aab7d62    5219\n",
       "16   7c848417-1490-4752-9766-d05859b23f72    5160\n",
       "17   51d4b598-a095-1aa0-e100-80009459e03a    5144\n",
       "18   0f2e0c50-51c1-4a4f-bfdb-c6f2eb676893    5092\n",
       "19   51b4b85c-a7fc-4b60-bde2-bbee6031bb8d    5052\n",
       "20   e935427e-bd37-4daf-979c-b4fe2d112981    4980\n",
       "21   5374ea5c-bf3e-4b0a-8504-049368adcdba    4978\n",
       "22   dbb0a607-7b91-42bf-af87-0c06c45991ed    4937\n",
       "23   8a0bc647-d690-4e43-9e80-479e422af7df    4910\n",
       "24   51d4b71a-a095-1aa0-e100-80009459e03a    4880\n",
       "25   51d4b48c-a095-1aa0-e100-80009459e03a    4859\n",
       "26   51d4b63b-a095-1aa0-e100-80009459e03a    4839\n",
       "27   51d4b6bb-a095-1aa0-e100-80009459e03a    4823\n",
       "28   17ac8e20-e554-4819-873d-0e6776201823    4786\n",
       "29   51d4b432-a095-1aa0-e100-80009459e03a    4776\n",
       "..                                    ...     ...\n",
       "370  e80169b2-1a75-457c-9e92-8da3d77a0f5d     791\n",
       "371  c615c080-915b-4d1e-8d65-54286e3c4acc     790\n",
       "372  f0f73c6d-a1a6-4e06-dbb9-6fd2d1cf72df     785\n",
       "373  a36a053d-2384-4d6b-a677-7f2d8abc3f01     776\n",
       "374  044b327b-8726-428a-867c-a48235121cf2     756\n",
       "375  8e04a261-815f-43f8-a5ba-20d12c5b3273     751\n",
       "376  8210437c-c3e9-4b5a-a62a-8f18c2cee833     735\n",
       "377  00060562-0001-4444-8888-acdc00000001     647\n",
       "378  805a5d72-50bb-438a-a243-978a19ec2691     604\n",
       "379  85aae4a5-89c0-44c7-b994-d8fdc325ca48     540\n",
       "380  e8729196-1156-4f0d-e325-440e5a3745b3     487\n",
       "381  f34f9241-6f55-48c6-aa4c-ee19f7272a22     482\n",
       "382  79f03b0b-7324-402b-853b-16b667228112     481\n",
       "383  00060710-0001-4444-8888-acdc00000001     466\n",
       "384  23550389-c41c-43d1-9f34-a91270c59530     398\n",
       "385  72046e37-447b-456e-86d8-7832c05aa88f     397\n",
       "386  a00a98c1-6216-4ead-86ee-ae5df2035e1b     378\n",
       "387  4b3c04a2-dc5a-44b9-ab23-dfb9072e115c     341\n",
       "388  a0ad7e17-ff61-47cf-80b9-c17183527ee5     308\n",
       "389  ba10c89e-d2f8-46d9-8ec5-6060bc32e89a     265\n",
       "390  0c94d112-d3d4-4a98-a20d-138f7c5e1064     196\n",
       "391  00060385-0001-4444-8888-acdc00000001     181\n",
       "392  de1e26ff-6fb8-436e-b819-877ab581527a     109\n",
       "393  eef314cf-a84a-4648-9284-c2df1efa36c9      96\n",
       "394  c0cd87f5-64c3-4cb9-b424-9f3ac71e0678      80\n",
       "395  f4f11a3c-a8d0-4742-874d-4f2d8d6b3572      80\n",
       "396  12df4ed4-df41-45ff-8189-4b8a31236b2c      46\n",
       "397  ef71bc50-b1f6-4fc6-ac96-6340c71c9bb9      46\n",
       "398  01ddc2f2-35ca-4a02-a47c-190ebabe558b      18\n",
       "399  82e92aca-b1ec-4bcf-3ab5-f192910c2716       9\n",
       "\n",
       "[400 rows x 2 columns]"
      ]
     },
     "execution_count": 44,
     "metadata": {},
     "output_type": "execute_result"
    }
   ],
   "source": [
    "station_freq_prices"
   ]
  },
  {
   "cell_type": "markdown",
   "metadata": {},
   "source": [
    "So we see that ID: 'e50f3cfa-f32b-48e7-8304-a9f3d40d9996'(\"AVIA Servicestation\",AVIA) has the highest frequency of price data points.\n",
    "So lets plot the time series plot to visualize the price change in this gas station."
   ]
  },
  {
   "cell_type": "code",
   "execution_count": 48,
   "metadata": {
    "collapsed": false
   },
   "outputs": [],
   "source": [
    "#Copy of df_2\n",
    "df_22 = df_2\n",
    "#df_22 = df_22.set_index('STID', inplace = True)\n"
   ]
  },
  {
   "cell_type": "code",
   "execution_count": 49,
   "metadata": {
    "collapsed": false
   },
   "outputs": [
    {
     "data": {
      "text/html": [
       "<div>\n",
       "<style scoped>\n",
       "    .dataframe tbody tr th:only-of-type {\n",
       "        vertical-align: middle;\n",
       "    }\n",
       "\n",
       "    .dataframe tbody tr th {\n",
       "        vertical-align: top;\n",
       "    }\n",
       "\n",
       "    .dataframe thead th {\n",
       "        text-align: right;\n",
       "    }\n",
       "</style>\n",
       "<table border=\"1\" class=\"dataframe\">\n",
       "  <thead>\n",
       "    <tr style=\"text-align: right;\">\n",
       "      <th></th>\n",
       "      <th>E5</th>\n",
       "      <th>E10</th>\n",
       "      <th>DIESEL</th>\n",
       "      <th>DATE_CHANGED</th>\n",
       "      <th>CHANGED</th>\n",
       "      <th>formatted_date</th>\n",
       "      <th>DAY_OF_WEEK</th>\n",
       "      <th>formatted_time</th>\n",
       "    </tr>\n",
       "    <tr>\n",
       "      <th>STID</th>\n",
       "      <th></th>\n",
       "      <th></th>\n",
       "      <th></th>\n",
       "      <th></th>\n",
       "      <th></th>\n",
       "      <th></th>\n",
       "      <th></th>\n",
       "      <th></th>\n",
       "    </tr>\n",
       "  </thead>\n",
       "  <tbody>\n",
       "    <tr>\n",
       "      <th>01bf5a06-4248-43a5-9524-56123fa3ab2f</th>\n",
       "      <td>1569</td>\n",
       "      <td>1529</td>\n",
       "      <td>1369</td>\n",
       "      <td>2014-10-02 05:26:01.000000</td>\n",
       "      <td>21</td>\n",
       "      <td>2014-10-02 05:26:01</td>\n",
       "      <td>3</td>\n",
       "      <td>5</td>\n",
       "    </tr>\n",
       "    <tr>\n",
       "      <th>01bf5a06-4248-43a5-9524-56123fa3ab2f</th>\n",
       "      <td>1589</td>\n",
       "      <td>1549</td>\n",
       "      <td>1389</td>\n",
       "      <td>2014-10-02 05:22:01.000000</td>\n",
       "      <td>21</td>\n",
       "      <td>2014-10-02 05:22:01</td>\n",
       "      <td>3</td>\n",
       "      <td>5</td>\n",
       "    </tr>\n",
       "    <tr>\n",
       "      <th>01bf5a06-4248-43a5-9524-56123fa3ab2f</th>\n",
       "      <td>1569</td>\n",
       "      <td>1529</td>\n",
       "      <td>1359</td>\n",
       "      <td>2014-10-02 09:06:01.000000</td>\n",
       "      <td>1</td>\n",
       "      <td>2014-10-02 09:06:01</td>\n",
       "      <td>3</td>\n",
       "      <td>9</td>\n",
       "    </tr>\n",
       "    <tr>\n",
       "      <th>01bf5a06-4248-43a5-9524-56123fa3ab2f</th>\n",
       "      <td>1539</td>\n",
       "      <td>1499</td>\n",
       "      <td>1339</td>\n",
       "      <td>2014-10-03 12:14:01.000000</td>\n",
       "      <td>21</td>\n",
       "      <td>2014-10-03 12:14:01</td>\n",
       "      <td>4</td>\n",
       "      <td>12</td>\n",
       "    </tr>\n",
       "    <tr>\n",
       "      <th>01bf5a06-4248-43a5-9524-56123fa3ab2f</th>\n",
       "      <td>1529</td>\n",
       "      <td>1489</td>\n",
       "      <td>1329</td>\n",
       "      <td>2014-10-03 14:14:01.000000</td>\n",
       "      <td>21</td>\n",
       "      <td>2014-10-03 14:14:01</td>\n",
       "      <td>4</td>\n",
       "      <td>14</td>\n",
       "    </tr>\n",
       "  </tbody>\n",
       "</table>\n",
       "</div>"
      ],
      "text/plain": [
       "                                        E5   E10  DIESEL  \\\n",
       "STID                                                       \n",
       "01bf5a06-4248-43a5-9524-56123fa3ab2f  1569  1529    1369   \n",
       "01bf5a06-4248-43a5-9524-56123fa3ab2f  1589  1549    1389   \n",
       "01bf5a06-4248-43a5-9524-56123fa3ab2f  1569  1529    1359   \n",
       "01bf5a06-4248-43a5-9524-56123fa3ab2f  1539  1499    1339   \n",
       "01bf5a06-4248-43a5-9524-56123fa3ab2f  1529  1489    1329   \n",
       "\n",
       "                                                    DATE_CHANGED  CHANGED  \\\n",
       "STID                                                                        \n",
       "01bf5a06-4248-43a5-9524-56123fa3ab2f  2014-10-02 05:26:01.000000       21   \n",
       "01bf5a06-4248-43a5-9524-56123fa3ab2f  2014-10-02 05:22:01.000000       21   \n",
       "01bf5a06-4248-43a5-9524-56123fa3ab2f  2014-10-02 09:06:01.000000        1   \n",
       "01bf5a06-4248-43a5-9524-56123fa3ab2f  2014-10-03 12:14:01.000000       21   \n",
       "01bf5a06-4248-43a5-9524-56123fa3ab2f  2014-10-03 14:14:01.000000       21   \n",
       "\n",
       "                                          formatted_date  DAY_OF_WEEK  \\\n",
       "STID                                                                    \n",
       "01bf5a06-4248-43a5-9524-56123fa3ab2f 2014-10-02 05:26:01            3   \n",
       "01bf5a06-4248-43a5-9524-56123fa3ab2f 2014-10-02 05:22:01            3   \n",
       "01bf5a06-4248-43a5-9524-56123fa3ab2f 2014-10-02 09:06:01            3   \n",
       "01bf5a06-4248-43a5-9524-56123fa3ab2f 2014-10-03 12:14:01            4   \n",
       "01bf5a06-4248-43a5-9524-56123fa3ab2f 2014-10-03 14:14:01            4   \n",
       "\n",
       "                                      formatted_time  \n",
       "STID                                                  \n",
       "01bf5a06-4248-43a5-9524-56123fa3ab2f               5  \n",
       "01bf5a06-4248-43a5-9524-56123fa3ab2f               5  \n",
       "01bf5a06-4248-43a5-9524-56123fa3ab2f               9  \n",
       "01bf5a06-4248-43a5-9524-56123fa3ab2f              12  \n",
       "01bf5a06-4248-43a5-9524-56123fa3ab2f              14  "
      ]
     },
     "execution_count": 49,
     "metadata": {},
     "output_type": "execute_result"
    }
   ],
   "source": [
    "df_22.head()"
   ]
  },
  {
   "cell_type": "code",
   "execution_count": 50,
   "metadata": {
    "collapsed": false
   },
   "outputs": [],
   "source": [
    "# High freq data contains all the values of station 'AVIA' which has the highest frequency data for \n",
    "# price change\n",
    "high_freq_data = df_22.loc['e50f3cfa-f32b-48e7-8304-a9f3d40d9996']"
   ]
  },
  {
   "cell_type": "code",
   "execution_count": 51,
   "metadata": {
    "collapsed": false
   },
   "outputs": [
    {
     "data": {
      "text/plain": [
       "6520"
      ]
     },
     "execution_count": 51,
     "metadata": {},
     "output_type": "execute_result"
    }
   ],
   "source": [
    "len(high_freq_data)"
   ]
  },
  {
   "cell_type": "code",
   "execution_count": 52,
   "metadata": {
    "collapsed": false
   },
   "outputs": [
    {
     "data": {
      "text/html": [
       "<div>\n",
       "<style scoped>\n",
       "    .dataframe tbody tr th:only-of-type {\n",
       "        vertical-align: middle;\n",
       "    }\n",
       "\n",
       "    .dataframe tbody tr th {\n",
       "        vertical-align: top;\n",
       "    }\n",
       "\n",
       "    .dataframe thead th {\n",
       "        text-align: right;\n",
       "    }\n",
       "</style>\n",
       "<table border=\"1\" class=\"dataframe\">\n",
       "  <thead>\n",
       "    <tr style=\"text-align: right;\">\n",
       "      <th></th>\n",
       "      <th>E5</th>\n",
       "      <th>E10</th>\n",
       "      <th>DIESEL</th>\n",
       "      <th>DATE_CHANGED</th>\n",
       "      <th>CHANGED</th>\n",
       "      <th>formatted_date</th>\n",
       "      <th>DAY_OF_WEEK</th>\n",
       "      <th>formatted_time</th>\n",
       "    </tr>\n",
       "    <tr>\n",
       "      <th>STID</th>\n",
       "      <th></th>\n",
       "      <th></th>\n",
       "      <th></th>\n",
       "      <th></th>\n",
       "      <th></th>\n",
       "      <th></th>\n",
       "      <th></th>\n",
       "      <th></th>\n",
       "    </tr>\n",
       "  </thead>\n",
       "  <tbody>\n",
       "    <tr>\n",
       "      <th>e50f3cfa-f32b-48e7-8304-a9f3d40d9996</th>\n",
       "      <td>1369</td>\n",
       "      <td>1329</td>\n",
       "      <td>1219</td>\n",
       "      <td>2014-12-15 12:42:01.000000</td>\n",
       "      <td>21</td>\n",
       "      <td>2014-12-15 12:42:01</td>\n",
       "      <td>0</td>\n",
       "      <td>12</td>\n",
       "    </tr>\n",
       "    <tr>\n",
       "      <th>e50f3cfa-f32b-48e7-8304-a9f3d40d9996</th>\n",
       "      <td>1309</td>\n",
       "      <td>1269</td>\n",
       "      <td>1159</td>\n",
       "      <td>2014-12-16 19:02:01.000000</td>\n",
       "      <td>21</td>\n",
       "      <td>2014-12-16 19:02:01</td>\n",
       "      <td>1</td>\n",
       "      <td>19</td>\n",
       "    </tr>\n",
       "    <tr>\n",
       "      <th>e50f3cfa-f32b-48e7-8304-a9f3d40d9996</th>\n",
       "      <td>1309</td>\n",
       "      <td>1269</td>\n",
       "      <td>1149</td>\n",
       "      <td>2014-12-16 19:22:01.000000</td>\n",
       "      <td>1</td>\n",
       "      <td>2014-12-16 19:22:01</td>\n",
       "      <td>1</td>\n",
       "      <td>19</td>\n",
       "    </tr>\n",
       "    <tr>\n",
       "      <th>e50f3cfa-f32b-48e7-8304-a9f3d40d9996</th>\n",
       "      <td>1299</td>\n",
       "      <td>1259</td>\n",
       "      <td>1139</td>\n",
       "      <td>2014-12-17 15:58:01.000000</td>\n",
       "      <td>21</td>\n",
       "      <td>2014-12-17 15:58:01</td>\n",
       "      <td>2</td>\n",
       "      <td>15</td>\n",
       "    </tr>\n",
       "    <tr>\n",
       "      <th>e50f3cfa-f32b-48e7-8304-a9f3d40d9996</th>\n",
       "      <td>1419</td>\n",
       "      <td>1379</td>\n",
       "      <td>1269</td>\n",
       "      <td>2014-11-03 21:17:00.000000</td>\n",
       "      <td>63</td>\n",
       "      <td>2014-11-03 21:17:00</td>\n",
       "      <td>0</td>\n",
       "      <td>21</td>\n",
       "    </tr>\n",
       "  </tbody>\n",
       "</table>\n",
       "</div>"
      ],
      "text/plain": [
       "                                        E5   E10  DIESEL  \\\n",
       "STID                                                       \n",
       "e50f3cfa-f32b-48e7-8304-a9f3d40d9996  1369  1329    1219   \n",
       "e50f3cfa-f32b-48e7-8304-a9f3d40d9996  1309  1269    1159   \n",
       "e50f3cfa-f32b-48e7-8304-a9f3d40d9996  1309  1269    1149   \n",
       "e50f3cfa-f32b-48e7-8304-a9f3d40d9996  1299  1259    1139   \n",
       "e50f3cfa-f32b-48e7-8304-a9f3d40d9996  1419  1379    1269   \n",
       "\n",
       "                                                    DATE_CHANGED  CHANGED  \\\n",
       "STID                                                                        \n",
       "e50f3cfa-f32b-48e7-8304-a9f3d40d9996  2014-12-15 12:42:01.000000       21   \n",
       "e50f3cfa-f32b-48e7-8304-a9f3d40d9996  2014-12-16 19:02:01.000000       21   \n",
       "e50f3cfa-f32b-48e7-8304-a9f3d40d9996  2014-12-16 19:22:01.000000        1   \n",
       "e50f3cfa-f32b-48e7-8304-a9f3d40d9996  2014-12-17 15:58:01.000000       21   \n",
       "e50f3cfa-f32b-48e7-8304-a9f3d40d9996  2014-11-03 21:17:00.000000       63   \n",
       "\n",
       "                                          formatted_date  DAY_OF_WEEK  \\\n",
       "STID                                                                    \n",
       "e50f3cfa-f32b-48e7-8304-a9f3d40d9996 2014-12-15 12:42:01            0   \n",
       "e50f3cfa-f32b-48e7-8304-a9f3d40d9996 2014-12-16 19:02:01            1   \n",
       "e50f3cfa-f32b-48e7-8304-a9f3d40d9996 2014-12-16 19:22:01            1   \n",
       "e50f3cfa-f32b-48e7-8304-a9f3d40d9996 2014-12-17 15:58:01            2   \n",
       "e50f3cfa-f32b-48e7-8304-a9f3d40d9996 2014-11-03 21:17:00            0   \n",
       "\n",
       "                                      formatted_time  \n",
       "STID                                                  \n",
       "e50f3cfa-f32b-48e7-8304-a9f3d40d9996              12  \n",
       "e50f3cfa-f32b-48e7-8304-a9f3d40d9996              19  \n",
       "e50f3cfa-f32b-48e7-8304-a9f3d40d9996              19  \n",
       "e50f3cfa-f32b-48e7-8304-a9f3d40d9996              15  \n",
       "e50f3cfa-f32b-48e7-8304-a9f3d40d9996              21  "
      ]
     },
     "execution_count": 52,
     "metadata": {},
     "output_type": "execute_result"
    }
   ],
   "source": [
    "high_freq_data.head()"
   ]
  },
  {
   "cell_type": "code",
   "execution_count": 54,
   "metadata": {
    "collapsed": false
   },
   "outputs": [
    {
     "data": {
      "image/png": "[encoded data removed]",
      "text/plain": [
       "<Figure size 360x360 with 1 Axes>"
      ]
     },
     "metadata": {},
     "output_type": "display_data"
    }
   ],
   "source": [
    "sns.catplot(x='formatted_time', y = 'E5', jitter = False, data = high_freq_data)\n",
    "plt.show()"
   ]
  },
  {
   "cell_type": "code",
   "execution_count": 56,
   "metadata": {
    "collapsed": false
   },
   "outputs": [
    {
     "data": {
      "image/png": "[encoded data removed]",
      "text/plain": [
       "<Figure size 360x360 with 1 Axes>"
      ]
     },
     "metadata": {},
     "output_type": "display_data"
    }
   ],
   "source": [
    "sns.catplot(x='formatted_time', y = 'E10', jitter = False, data = high_freq_data)\n",
    "plt.show()"
   ]
  },
  {
   "cell_type": "code",
   "execution_count": 57,
   "metadata": {
    "collapsed": false
   },
   "outputs": [
    {
     "data": {
      "image/png": "[encoded data removed]",
      "text/plain": [
       "<Figure size 360x360 with 1 Axes>"
      ]
     },
     "metadata": {},
     "output_type": "display_data"
    }
   ],
   "source": [
    "sns.catplot(x='formatted_time', y = 'DIESEL', jitter = False, data = high_freq_data)\n",
    "plt.show()"
   ]
  },
  {
   "cell_type": "code",
   "execution_count": null,
   "metadata": {
    "collapsed": true
   },
   "outputs": [],
   "source": []
  },
  {
   "cell_type": "markdown",
   "metadata": {},
   "source": [
    "### 8. At which hour during a day do we have the most price changes?"
   ]
  },
  {
   "cell_type": "code",
   "execution_count": null,
   "metadata": {
    "collapsed": true
   },
   "outputs": [],
   "source": []
  },
  {
   "cell_type": "markdown",
   "metadata": {},
   "source": [
    "### 9. Select 20 gas stations having the longest time history and visualize the average price per month. Use heatmap and only the prices between 12:00-13:00 of e10 and diesel."
   ]
  },
  {
   "cell_type": "code",
   "execution_count": 58,
   "metadata": {
    "collapsed": false
   },
   "outputs": [],
   "source": [
    "#Top 20 stations with longest time history\n",
    "top_20 = df_22.loc[['e50f3cfa-f32b-48e7-8304-a9f3d40d9996','7aafc62a-a9e0-4cd2-83ad-345dfec172a0','e6eb9adc-77d0-4f03-9549-799b691f3ff4',\n",
    "                   'daf56df5-bb5f-4297-a4bb-a0f444139d7f','d133b8ca-83eb-431c-8b35-0ae3b955ebbe','51d4b551-a095-1aa0-e100-80009459e03a',\n",
    "                   '51d4b553-a095-1aa0-e100-80009459e03a','14ec4b5b-18f3-4664-b768-1958f9e3b49f','e991a489-6456-38af-e040-0b0a3dfe7c4f',\n",
    "                   '8d2cc77a-e636-403d-a4f6-9260ff4c9c16','51d4b4e4-a095-1aa0-e100-80009459e03a','8607b08c-fdc8-4e54-8c0e-3403b333437d',\n",
    "                   '9247742f-2957-4777-b8b5-06786141aa14','c393f0a6-2197-403a-ac89-e6a59be3ff50','061716a5-f4a6-4983-a36e-8ef1e8ce17e0',\n",
    "                   'fdca8d3a-c7e7-4fe1-ad17-27772aab7d62','7c848417-1490-4752-9766-d05859b23f72','0f2e0c50-51c1-4a4f-bfdb-c6f2eb676893',\n",
    "                   '51d4b598-a095-1aa0-e100-80009459e03a','51b4b85c-a7fc-4b60-bde2-bbee6031bb8d']]"
   ]
  },
  {
   "cell_type": "code",
   "execution_count": 59,
   "metadata": {
    "collapsed": false
   },
   "outputs": [
    {
     "data": {
      "text/html": [
       "<div>\n",
       "<style scoped>\n",
       "    .dataframe tbody tr th:only-of-type {\n",
       "        vertical-align: middle;\n",
       "    }\n",
       "\n",
       "    .dataframe tbody tr th {\n",
       "        vertical-align: top;\n",
       "    }\n",
       "\n",
       "    .dataframe thead th {\n",
       "        text-align: right;\n",
       "    }\n",
       "</style>\n",
       "<table border=\"1\" class=\"dataframe\">\n",
       "  <thead>\n",
       "    <tr style=\"text-align: right;\">\n",
       "      <th></th>\n",
       "      <th>E5</th>\n",
       "      <th>E10</th>\n",
       "      <th>DIESEL</th>\n",
       "      <th>DATE_CHANGED</th>\n",
       "      <th>CHANGED</th>\n",
       "      <th>formatted_date</th>\n",
       "      <th>DAY_OF_WEEK</th>\n",
       "      <th>formatted_time</th>\n",
       "    </tr>\n",
       "    <tr>\n",
       "      <th>STID</th>\n",
       "      <th></th>\n",
       "      <th></th>\n",
       "      <th></th>\n",
       "      <th></th>\n",
       "      <th></th>\n",
       "      <th></th>\n",
       "      <th></th>\n",
       "      <th></th>\n",
       "    </tr>\n",
       "  </thead>\n",
       "  <tbody>\n",
       "    <tr>\n",
       "      <th>e50f3cfa-f32b-48e7-8304-a9f3d40d9996</th>\n",
       "      <td>1369</td>\n",
       "      <td>1329</td>\n",
       "      <td>1219</td>\n",
       "      <td>2014-12-15 12:42:01.000000</td>\n",
       "      <td>21</td>\n",
       "      <td>2014-12-15 12:42:01</td>\n",
       "      <td>0</td>\n",
       "      <td>12</td>\n",
       "    </tr>\n",
       "    <tr>\n",
       "      <th>e50f3cfa-f32b-48e7-8304-a9f3d40d9996</th>\n",
       "      <td>1309</td>\n",
       "      <td>1269</td>\n",
       "      <td>1159</td>\n",
       "      <td>2014-12-16 19:02:01.000000</td>\n",
       "      <td>21</td>\n",
       "      <td>2014-12-16 19:02:01</td>\n",
       "      <td>1</td>\n",
       "      <td>19</td>\n",
       "    </tr>\n",
       "    <tr>\n",
       "      <th>e50f3cfa-f32b-48e7-8304-a9f3d40d9996</th>\n",
       "      <td>1309</td>\n",
       "      <td>1269</td>\n",
       "      <td>1149</td>\n",
       "      <td>2014-12-16 19:22:01.000000</td>\n",
       "      <td>1</td>\n",
       "      <td>2014-12-16 19:22:01</td>\n",
       "      <td>1</td>\n",
       "      <td>19</td>\n",
       "    </tr>\n",
       "    <tr>\n",
       "      <th>e50f3cfa-f32b-48e7-8304-a9f3d40d9996</th>\n",
       "      <td>1299</td>\n",
       "      <td>1259</td>\n",
       "      <td>1139</td>\n",
       "      <td>2014-12-17 15:58:01.000000</td>\n",
       "      <td>21</td>\n",
       "      <td>2014-12-17 15:58:01</td>\n",
       "      <td>2</td>\n",
       "      <td>15</td>\n",
       "    </tr>\n",
       "    <tr>\n",
       "      <th>e50f3cfa-f32b-48e7-8304-a9f3d40d9996</th>\n",
       "      <td>1419</td>\n",
       "      <td>1379</td>\n",
       "      <td>1269</td>\n",
       "      <td>2014-11-03 21:17:00.000000</td>\n",
       "      <td>63</td>\n",
       "      <td>2014-11-03 21:17:00</td>\n",
       "      <td>0</td>\n",
       "      <td>21</td>\n",
       "    </tr>\n",
       "  </tbody>\n",
       "</table>\n",
       "</div>"
      ],
      "text/plain": [
       "                                        E5   E10  DIESEL  \\\n",
       "STID                                                       \n",
       "e50f3cfa-f32b-48e7-8304-a9f3d40d9996  1369  1329    1219   \n",
       "e50f3cfa-f32b-48e7-8304-a9f3d40d9996  1309  1269    1159   \n",
       "e50f3cfa-f32b-48e7-8304-a9f3d40d9996  1309  1269    1149   \n",
       "e50f3cfa-f32b-48e7-8304-a9f3d40d9996  1299  1259    1139   \n",
       "e50f3cfa-f32b-48e7-8304-a9f3d40d9996  1419  1379    1269   \n",
       "\n",
       "                                                    DATE_CHANGED  CHANGED  \\\n",
       "STID                                                                        \n",
       "e50f3cfa-f32b-48e7-8304-a9f3d40d9996  2014-12-15 12:42:01.000000       21   \n",
       "e50f3cfa-f32b-48e7-8304-a9f3d40d9996  2014-12-16 19:02:01.000000       21   \n",
       "e50f3cfa-f32b-48e7-8304-a9f3d40d9996  2014-12-16 19:22:01.000000        1   \n",
       "e50f3cfa-f32b-48e7-8304-a9f3d40d9996  2014-12-17 15:58:01.000000       21   \n",
       "e50f3cfa-f32b-48e7-8304-a9f3d40d9996  2014-11-03 21:17:00.000000       63   \n",
       "\n",
       "                                          formatted_date  DAY_OF_WEEK  \\\n",
       "STID                                                                    \n",
       "e50f3cfa-f32b-48e7-8304-a9f3d40d9996 2014-12-15 12:42:01            0   \n",
       "e50f3cfa-f32b-48e7-8304-a9f3d40d9996 2014-12-16 19:02:01            1   \n",
       "e50f3cfa-f32b-48e7-8304-a9f3d40d9996 2014-12-16 19:22:01            1   \n",
       "e50f3cfa-f32b-48e7-8304-a9f3d40d9996 2014-12-17 15:58:01            2   \n",
       "e50f3cfa-f32b-48e7-8304-a9f3d40d9996 2014-11-03 21:17:00            0   \n",
       "\n",
       "                                      formatted_time  \n",
       "STID                                                  \n",
       "e50f3cfa-f32b-48e7-8304-a9f3d40d9996              12  \n",
       "e50f3cfa-f32b-48e7-8304-a9f3d40d9996              19  \n",
       "e50f3cfa-f32b-48e7-8304-a9f3d40d9996              19  \n",
       "e50f3cfa-f32b-48e7-8304-a9f3d40d9996              15  \n",
       "e50f3cfa-f32b-48e7-8304-a9f3d40d9996              21  "
      ]
     },
     "execution_count": 59,
     "metadata": {},
     "output_type": "execute_result"
    }
   ],
   "source": [
    "top_20.head()"
   ]
  },
  {
   "cell_type": "code",
   "execution_count": 60,
   "metadata": {
    "collapsed": false
   },
   "outputs": [],
   "source": [
    "#Lets plot Heatmap\n",
    "#df_2['formatted_time'] = pd.to_datetime(df_2['formatted_date']).dt.hour\n",
    "top_20['formatted_month'] = pd.to_datetime(top_20['formatted_date']).dt.month_name()\n",
    "#top_20['formatted_month'] = pd.to_datetime(top_20['formatted_date']).dt.month\n",
    "top_20 = top_20.reset_index()"
   ]
  },
  {
   "cell_type": "code",
   "execution_count": 89,
   "metadata": {
    "collapsed": false
   },
   "outputs": [],
   "source": [
    "top_20_E10 = top_20[['formatted_time','formatted_month','E10']]\n",
    "#Between 12-13hr\n",
    "top_20_E10_12_13 = top_20_E10[top_20_E10['formatted_time'] >11]\n",
    "top_20_E10_12_13 = top_20_E10_12_13[top_20_E10_12_13['formatted_time'] < 14] \n",
    "#sns.heatmap(top_20_E5)\n",
    "#plt.matshow(top_20_E5)\n",
    "#plt.show()\n",
    "#type(top_20_E5['E5'][1])\n",
    "#plt.matshow(top_20_E5)"
   ]
  },
  {
   "cell_type": "code",
   "execution_count": 73,
   "metadata": {
    "collapsed": false
   },
   "outputs": [],
   "source": [
    "top_20_E10 = top_20_E10.pivot_table(index = 'formatted_time', columns = 'formatted_month',values ='E10')"
   ]
  },
  {
   "cell_type": "code",
   "execution_count": 74,
   "metadata": {
    "collapsed": false
   },
   "outputs": [
    {
     "data": {
      "image/png": "[encoded data removed]",
      "text/plain": [
       "<Figure size 432x288 with 2 Axes>"
      ]
     },
     "metadata": {},
     "output_type": "display_data"
    }
   ],
   "source": [
    "sns.heatmap(top_20_E10)\n",
    "plt.title(\"E10\")\n",
    "plt.show()"
   ]
  },
  {
   "cell_type": "code",
   "execution_count": 97,
   "metadata": {
    "collapsed": true
   },
   "outputs": [],
   "source": [
    "top_20_E10 = top_20[['formatted_time','formatted_month','E10']]\n",
    "top_20_E10_12_13 = top_20_E10[top_20_E10['formatted_time'] >11]\n",
    "top_20_E10_12_13 = top_20_E10_12_13[top_20_E10_12_13['formatted_time'] < 14] \n"
   ]
  },
  {
   "cell_type": "code",
   "execution_count": 98,
   "metadata": {
    "collapsed": true
   },
   "outputs": [],
   "source": [
    "top_20_E10 = top_20_E10.pivot_table(index = 'formatted_time', columns = 'formatted_month',values ='E10')"
   ]
  },
  {
   "cell_type": "code",
   "execution_count": 99,
   "metadata": {
    "collapsed": false
   },
   "outputs": [
    {
     "data": {
      "image/png": "[encoded data removed]",
      "text/plain": [
       "<Figure size 432x288 with 2 Axes>"
      ]
     },
     "metadata": {},
     "output_type": "display_data"
    }
   ],
   "source": [
    "top_20_E10_12_13 = top_20_E10_12_13.pivot_table(index = 'formatted_time', columns = 'formatted_month',values = 'E10')\n",
    "sns.heatmap(top_20_E10_12_13)\n",
    "plt.title(\"E10\")\n",
    "plt.show()"
   ]
  },
  {
   "cell_type": "markdown",
   "metadata": {},
   "source": [
    "We can see that the Price is highest in July, June and October."
   ]
  },
  {
   "cell_type": "code",
   "execution_count": 69,
   "metadata": {
    "collapsed": true
   },
   "outputs": [],
   "source": [
    "#Same can be done for DIESEL\n",
    "top_20_DIESEL = top_20[['formatted_time','formatted_month','DIESEL']]\n",
    "top_20_DIESEL_12_13 = top_20_DIESEL[top_20_DIESEL['formatted_time'] >11]\n",
    "top_20_DIESEL_12_13 = top_20_DIESEL_12_13[top_20_DIESEL_12_13['formatted_time'] < 14] \n",
    "\n"
   ]
  },
  {
   "cell_type": "code",
   "execution_count": 70,
   "metadata": {
    "collapsed": true
   },
   "outputs": [],
   "source": [
    "top_20_DIESEL = top_20_DIESEL.pivot_table(index = 'formatted_time', columns = 'formatted_month',values ='DIESEL')"
   ]
  },
  {
   "cell_type": "code",
   "execution_count": 71,
   "metadata": {
    "collapsed": false
   },
   "outputs": [
    {
     "data": {
      "image/png": "[encoded data removed]",
      "text/plain": [
       "<Figure size 432x288 with 2 Axes>"
      ]
     },
     "metadata": {},
     "output_type": "display_data"
    }
   ],
   "source": [
    "top_20_DIESEL_12_13 = top_20_DIESEL_12_13.pivot_table(index = 'formatted_time', columns = 'formatted_month',values = 'DIESEL')\n",
    "sns.heatmap(top_20_DIESEL_12_13)\n",
    "plt.title(\"DIESEL\")\n",
    "plt.show()"
   ]
  },
  {
   "cell_type": "markdown",
   "metadata": {},
   "source": [
    "We see that prices are higheset in October and November."
   ]
  },
  {
   "cell_type": "code",
   "execution_count": null,
   "metadata": {
    "collapsed": true
   },
   "outputs": [],
   "source": []
  },
  {
   "cell_type": "markdown",
   "metadata": {},
   "source": [
    "### 10. Describe a possible business potential in € for the customer (textual description in the ipyhton file). Define the constraints of the business case 5 lines, the answer max 15 lines (high level summary)"
   ]
  },
  {
   "cell_type": "markdown",
   "metadata": {},
   "source": [
    "The Customers can enjoy benefits of lower gasoline prices by following few guidelines:\n",
    "1. For DIESEL (Oct-Nov) and for E10 (Jun-Jul & Oct) have been the costliest. Be prepared and fill your\n",
    "   gas tanks in advance or try to minimize your gasoline use in these months.\n",
    "2. Thursdays are the cheapest on average, so fill your gas tanks on Thursdays(Don't wait for Weekend).\n",
    "3. E5 and E10 are in general cheaper around 11-13hr and DIESEL around 15-16hr.\n",
    "4. Globus Handelshof GmbH & Co.KG Betriebsstätte is the cheapest gas station in general."
   ]
  },
  {
   "cell_type": "code",
   "execution_count": null,
   "metadata": {
    "collapsed": true
   },
   "outputs": [],
   "source": []
  },
  {
   "cell_type": "code",
   "execution_count": null,
   "metadata": {
    "collapsed": true
   },
   "outputs": [],
   "source": []
  },
  {
   "cell_type": "code",
   "execution_count": null,
   "metadata": {
    "collapsed": true
   },
   "outputs": [],
   "source": []
  },
  {
   "cell_type": "code",
   "execution_count": null,
   "metadata": {
    "collapsed": true
   },
   "outputs": [],
   "source": []
  },
  {
   "cell_type": "code",
   "execution_count": null,
   "metadata": {
    "collapsed": true
   },
   "outputs": [],
   "source": []
  }
 ],
 "metadata": {
  "kernelspec": {
   "display_name": "Python 3",
   "language": "python",
   "name": "python3"
  },
  "language_info": {
   "codemirror_mode": {
    "name": "ipython",
    "version": 3
   },
   "file_extension": ".py",
   "mimetype": "text/x-python",
   "name": "python",
   "nbconvert_exporter": "python",
   "pygments_lexer": "ipython3",
   "version": "3.6.8"
  }
 },
 "nbformat": 4,
 "nbformat_minor": 2
}
